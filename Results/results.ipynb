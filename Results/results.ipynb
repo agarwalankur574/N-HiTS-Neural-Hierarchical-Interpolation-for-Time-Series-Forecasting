{
 "cells": [
  {
   "cell_type": "code",
   "execution_count": 14,
   "id": "b74e5963-5897-4582-a8ed-25b68b70fe7d",
   "metadata": {},
   "outputs": [],
   "source": [
    "import os\n",
    "import pandas as pd\n",
    "from neuralforecast.losses.numpy import mae, mse"
   ]
  },
  {
   "cell_type": "code",
   "execution_count": 15,
   "id": "00a0a5bd-f972-4ea2-a3e9-ff1905fa511b",
   "metadata": {},
   "outputs": [],
   "source": [
    "folder_path = 'Exchange_rate'\n",
    "exchange_result = []\n",
    "\n",
    "for filename in os.listdir(folder_path):\n",
    "    if filename.endswith('.csv'):\n",
    "        file_path = os.path.join(folder_path, filename)\n",
    "        df = pd.read_csv(file_path, low_memory=False, index_col = 0)\n",
    "        exchange_result.append(df)"
   ]
  },
  {
   "cell_type": "code",
   "execution_count": 16,
   "id": "e3d8716f-a2bf-415c-978d-45a652d0b0b3",
   "metadata": {},
   "outputs": [],
   "source": [
    "Exchange_results = exchange_result[0]"
   ]
  },
  {
   "cell_type": "code",
   "execution_count": 17,
   "id": "e7630469-3f58-489d-b826-3c44b7055435",
   "metadata": {},
   "outputs": [],
   "source": [
    "Exchange_results['AutoNHITS'] = exchange_result[1]['AutoNHITS']\n",
    "Exchange_results['Informer'] = exchange_result[2]['Informer']\n",
    "Exchange_results['NBEATS'] = exchange_result[3]['NBEATS']\n",
    "Exchange_results['NHITS'] = exchange_result[4]['NHITS']"
   ]
  },
  {
   "cell_type": "code",
   "execution_count": 18,
   "id": "eb98cd5c-b476-41ca-aaaf-54a122cc2756",
   "metadata": {},
   "outputs": [
    {
     "data": {
      "text/html": [
       "<div>\n",
       "<style scoped>\n",
       "    .dataframe tbody tr th:only-of-type {\n",
       "        vertical-align: middle;\n",
       "    }\n",
       "\n",
       "    .dataframe tbody tr th {\n",
       "        vertical-align: top;\n",
       "    }\n",
       "\n",
       "    .dataframe thead th {\n",
       "        text-align: right;\n",
       "    }\n",
       "</style>\n",
       "<table border=\"1\" class=\"dataframe\">\n",
       "  <thead>\n",
       "    <tr style=\"text-align: right;\">\n",
       "      <th></th>\n",
       "      <th>NHITS_MSE</th>\n",
       "      <th>NHITS_MAE</th>\n",
       "      <th>NBEATS_MSE</th>\n",
       "      <th>NBEATS_MAE</th>\n",
       "      <th>Autoformer_MSE</th>\n",
       "      <th>Autoformer_MAE</th>\n",
       "      <th>Informer_MSE</th>\n",
       "      <th>Informer_MAE</th>\n",
       "    </tr>\n",
       "  </thead>\n",
       "  <tbody>\n",
       "    <tr>\n",
       "      <th>Exchange_rate</th>\n",
       "      <td>0.086735</td>\n",
       "      <td>0.208902</td>\n",
       "      <td>0.088692</td>\n",
       "      <td>0.207726</td>\n",
       "      <td>0.161862</td>\n",
       "      <td>0.296455</td>\n",
       "      <td>0.947271</td>\n",
       "      <td>0.714673</td>\n",
       "    </tr>\n",
       "  </tbody>\n",
       "</table>\n",
       "</div>"
      ],
      "text/plain": [
       "               NHITS_MSE  NHITS_MAE  NBEATS_MSE  NBEATS_MAE  Autoformer_MSE  \\\n",
       "Exchange_rate   0.086735   0.208902    0.088692    0.207726        0.161862   \n",
       "\n",
       "               Autoformer_MAE  Informer_MSE  Informer_MAE  \n",
       "Exchange_rate        0.296455      0.947271      0.714673  "
      ]
     },
     "execution_count": 18,
     "metadata": {},
     "output_type": "execute_result"
    }
   ],
   "source": [
    "models = ['AutoNHITS', 'NBEATS','Autoformer','Informer']\n",
    "metrics = ['MSE', 'MAE']\n",
    "\n",
    "results = {}\n",
    "\n",
    "for model in models:\n",
    "    for metric in metrics:\n",
    "        y_true = Exchange_results['y']\n",
    "        y_pred = Exchange_results[model]\n",
    "        \n",
    "        if metric == 'MSE':\n",
    "            result = mse(y_true, y_pred)\n",
    "        elif metric == 'MAE':\n",
    "            result = mae(y_true, y_pred)\n",
    "        \n",
    "        key = f'{model}_{metric}'\n",
    "        results[key] = result\n",
    "\n",
    "exchange_rate = pd.DataFrame.from_dict(results, orient='index', columns=['Exchange_rate']).T\n",
    "exchange_rate = exchange_rate.rename(columns={\"AutoNHITS_MSE\": \"NHITS_MSE\", \"AutoNHITS_MAE\": \"NHITS_MAE\"})\n",
    "exchange_rate"
   ]
  },
  {
   "cell_type": "code",
   "execution_count": 19,
   "id": "9bb524d6-095a-4ef6-b6af-40f7eaabfbac",
   "metadata": {},
   "outputs": [],
   "source": [
    "folder_path = 'Ettm2'\n",
    "ettm2_result = []\n",
    "\n",
    "for filename in os.listdir(folder_path):\n",
    "    if filename.endswith('.csv'):\n",
    "        file_path = os.path.join(folder_path, filename)\n",
    "        df = pd.read_csv(file_path, low_memory=False, index_col = 0)\n",
    "        ettm2_result.append(df)"
   ]
  },
  {
   "cell_type": "code",
   "execution_count": 20,
   "id": "886cb06a-2485-4d81-832c-5360f9ad6498",
   "metadata": {
    "scrolled": true
   },
   "outputs": [],
   "source": [
    "ettm2_results = ettm2_result[2]\n",
    "ettm2_results['Autoformer'] = ettm2_result[0]['Autoformer']\n",
    "ettm2_results['Informer'] = ettm2_result[1]['Informer']"
   ]
  },
  {
   "cell_type": "code",
   "execution_count": 21,
   "id": "6c2bc89b-87fd-4a85-b328-008cf1a49321",
   "metadata": {},
   "outputs": [
    {
     "data": {
      "text/html": [
       "<div>\n",
       "<style scoped>\n",
       "    .dataframe tbody tr th:only-of-type {\n",
       "        vertical-align: middle;\n",
       "    }\n",
       "\n",
       "    .dataframe tbody tr th {\n",
       "        vertical-align: top;\n",
       "    }\n",
       "\n",
       "    .dataframe thead th {\n",
       "        text-align: right;\n",
       "    }\n",
       "</style>\n",
       "<table border=\"1\" class=\"dataframe\">\n",
       "  <thead>\n",
       "    <tr style=\"text-align: right;\">\n",
       "      <th></th>\n",
       "      <th>NHITS_MSE</th>\n",
       "      <th>NHITS_MAE</th>\n",
       "      <th>NBEATS_MSE</th>\n",
       "      <th>NBEATS_MAE</th>\n",
       "      <th>Autoformer_MSE</th>\n",
       "      <th>Autoformer_MAE</th>\n",
       "      <th>Informer_MSE</th>\n",
       "      <th>Informer_MAE</th>\n",
       "    </tr>\n",
       "  </thead>\n",
       "  <tbody>\n",
       "    <tr>\n",
       "      <th>Ettm2</th>\n",
       "      <td>0.182795</td>\n",
       "      <td>0.260968</td>\n",
       "      <td>0.184381</td>\n",
       "      <td>0.267878</td>\n",
       "      <td>0.255369</td>\n",
       "      <td>0.335314</td>\n",
       "      <td>0.418547</td>\n",
       "      <td>0.444891</td>\n",
       "    </tr>\n",
       "  </tbody>\n",
       "</table>\n",
       "</div>"
      ],
      "text/plain": [
       "       NHITS_MSE  NHITS_MAE  NBEATS_MSE  NBEATS_MAE  Autoformer_MSE  \\\n",
       "Ettm2   0.182795   0.260968    0.184381    0.267878        0.255369   \n",
       "\n",
       "       Autoformer_MAE  Informer_MSE  Informer_MAE  \n",
       "Ettm2        0.335314      0.418547      0.444891  "
      ]
     },
     "execution_count": 21,
     "metadata": {},
     "output_type": "execute_result"
    }
   ],
   "source": [
    "models = ['NBEATS','Autoformer','Informer']\n",
    "metrics = ['MSE', 'MAE']\n",
    "\n",
    "results = {}\n",
    "\n",
    "for model in models:\n",
    "    for metric in metrics:\n",
    "        y_true = ettm2_results['y']\n",
    "        y_pred = ettm2_results[model]\n",
    "        \n",
    "        if metric == 'MSE':\n",
    "            result = mse(y_true, y_pred)\n",
    "        elif metric == 'MAE':\n",
    "            result = mae(y_true, y_pred)\n",
    "        \n",
    "        key = f'{model}_{metric}'\n",
    "        results[key] = result\n",
    "\n",
    "Ettm2 = pd.DataFrame.from_dict(results, orient='index', columns=['Ettm2']).T\n",
    "Ettm2.insert(0, 'NHITS_MSE', 0.18279484416711375)\n",
    "Ettm2.insert(1, 'NHITS_MAE', 0.26096806135482414)\n",
    "Ettm2"
   ]
  },
  {
   "cell_type": "code",
   "execution_count": 22,
   "id": "98119393-0bb7-42e4-a49d-9562aa856414",
   "metadata": {},
   "outputs": [],
   "source": [
    "import pandas as pd\n",
    "NHITS_wea = pd.read_csv('Weather/df_NHITS.csv',index_col=0)\n",
    "NBEATS_wea = pd.read_csv('Weather/df_NBEATS.csv',index_col=0)\n",
    "Auto_wea = pd.read_csv('Weather/df_Autoformer.csv',index_col=0)\n",
    "informer_wea = pd.read_csv('Weather/df_Informer.csv',index_col=0)"
   ]
  },
  {
   "cell_type": "code",
   "execution_count": 23,
   "id": "fd7ee586-1bf3-4d44-ba8b-8d8eba02a6c8",
   "metadata": {},
   "outputs": [
    {
     "data": {
      "text/html": [
       "<div>\n",
       "<style scoped>\n",
       "    .dataframe tbody tr th:only-of-type {\n",
       "        vertical-align: middle;\n",
       "    }\n",
       "\n",
       "    .dataframe tbody tr th {\n",
       "        vertical-align: top;\n",
       "    }\n",
       "\n",
       "    .dataframe thead th {\n",
       "        text-align: right;\n",
       "    }\n",
       "</style>\n",
       "<table border=\"1\" class=\"dataframe\">\n",
       "  <thead>\n",
       "    <tr style=\"text-align: right;\">\n",
       "      <th></th>\n",
       "      <th>NHITS_MSE</th>\n",
       "      <th>NHITS_MAE</th>\n",
       "      <th>NBEATS_MSE</th>\n",
       "      <th>NBEATS_MAE</th>\n",
       "      <th>Autoformer_MSE</th>\n",
       "      <th>Autoformer_MAE</th>\n",
       "      <th>Informer_MSE</th>\n",
       "      <th>Informer_MAE</th>\n",
       "    </tr>\n",
       "  </thead>\n",
       "  <tbody>\n",
       "    <tr>\n",
       "      <th>Weather</th>\n",
       "      <td>0.165567</td>\n",
       "      <td>0.197574</td>\n",
       "      <td>0.178303</td>\n",
       "      <td>0.207848</td>\n",
       "      <td>0.230596</td>\n",
       "      <td>0.289746</td>\n",
       "      <td>0.257755</td>\n",
       "      <td>0.319695</td>\n",
       "    </tr>\n",
       "  </tbody>\n",
       "</table>\n",
       "</div>"
      ],
      "text/plain": [
       "         NHITS_MSE  NHITS_MAE  NBEATS_MSE  NBEATS_MAE  Autoformer_MSE  \\\n",
       "Weather   0.165567   0.197574    0.178303    0.207848        0.230596   \n",
       "\n",
       "         Autoformer_MAE  Informer_MSE  Informer_MAE  \n",
       "Weather        0.289746      0.257755      0.319695  "
      ]
     },
     "execution_count": 23,
     "metadata": {},
     "output_type": "execute_result"
    }
   ],
   "source": [
    "Weather = pd.concat([NHITS_wea,NBEATS_wea,Auto_wea,informer_wea], axis=1)\n",
    "Weather"
   ]
  },
  {
   "cell_type": "code",
   "execution_count": 24,
   "id": "d8ae28d8-5d27-42de-8615-c6370d46ac9a",
   "metadata": {},
   "outputs": [],
   "source": [
    "results = pd.concat([Ettm2,exchange_rate,Weather], axis=0)\n",
    "results = results.round(3)"
   ]
  },
  {
   "cell_type": "code",
   "execution_count": 25,
   "id": "c9e8d558-852f-4929-bec9-562e6d6a55c7",
   "metadata": {},
   "outputs": [
    {
     "data": {
      "text/html": [
       "<div>\n",
       "<style scoped>\n",
       "    .dataframe tbody tr th:only-of-type {\n",
       "        vertical-align: middle;\n",
       "    }\n",
       "\n",
       "    .dataframe tbody tr th {\n",
       "        vertical-align: top;\n",
       "    }\n",
       "\n",
       "    .dataframe thead th {\n",
       "        text-align: right;\n",
       "    }\n",
       "</style>\n",
       "<table border=\"1\" class=\"dataframe\">\n",
       "  <thead>\n",
       "    <tr style=\"text-align: right;\">\n",
       "      <th></th>\n",
       "      <th>NHITS_MSE</th>\n",
       "      <th>NHITS_MAE</th>\n",
       "      <th>NBEATS_MSE</th>\n",
       "      <th>NBEATS_MAE</th>\n",
       "      <th>Autoformer_MSE</th>\n",
       "      <th>Autoformer_MAE</th>\n",
       "      <th>Informer_MSE</th>\n",
       "      <th>Informer_MAE</th>\n",
       "    </tr>\n",
       "  </thead>\n",
       "  <tbody>\n",
       "    <tr>\n",
       "      <th>Ettm2</th>\n",
       "      <td>0.183</td>\n",
       "      <td>0.261</td>\n",
       "      <td>0.184</td>\n",
       "      <td>0.268</td>\n",
       "      <td>0.255</td>\n",
       "      <td>0.335</td>\n",
       "      <td>0.419</td>\n",
       "      <td>0.445</td>\n",
       "    </tr>\n",
       "    <tr>\n",
       "      <th>Exchange_rate</th>\n",
       "      <td>0.087</td>\n",
       "      <td>0.209</td>\n",
       "      <td>0.089</td>\n",
       "      <td>0.208</td>\n",
       "      <td>0.162</td>\n",
       "      <td>0.296</td>\n",
       "      <td>0.947</td>\n",
       "      <td>0.715</td>\n",
       "    </tr>\n",
       "    <tr>\n",
       "      <th>Weather</th>\n",
       "      <td>0.166</td>\n",
       "      <td>0.198</td>\n",
       "      <td>0.178</td>\n",
       "      <td>0.208</td>\n",
       "      <td>0.231</td>\n",
       "      <td>0.290</td>\n",
       "      <td>0.258</td>\n",
       "      <td>0.320</td>\n",
       "    </tr>\n",
       "  </tbody>\n",
       "</table>\n",
       "</div>"
      ],
      "text/plain": [
       "               NHITS_MSE  NHITS_MAE  NBEATS_MSE  NBEATS_MAE  Autoformer_MSE  \\\n",
       "Ettm2              0.183      0.261       0.184       0.268           0.255   \n",
       "Exchange_rate      0.087      0.209       0.089       0.208           0.162   \n",
       "Weather            0.166      0.198       0.178       0.208           0.231   \n",
       "\n",
       "               Autoformer_MAE  Informer_MSE  Informer_MAE  \n",
       "Ettm2                   0.335         0.419         0.445  \n",
       "Exchange_rate           0.296         0.947         0.715  \n",
       "Weather                 0.290         0.258         0.320  "
      ]
     },
     "execution_count": 25,
     "metadata": {},
     "output_type": "execute_result"
    }
   ],
   "source": [
    "results"
   ]
  },
  {
   "cell_type": "code",
   "execution_count": 26,
   "id": "b157b685-7534-43ee-89c4-cb72013a0b82",
   "metadata": {},
   "outputs": [],
   "source": [
    "results.to_csv('final_results.csv',index=0)"
   ]
  },
  {
   "cell_type": "code",
   "execution_count": null,
   "id": "8d404ba1-9bb1-4107-a840-d9b307465c14",
   "metadata": {},
   "outputs": [],
   "source": []
  }
 ],
 "metadata": {
  "kernelspec": {
   "display_name": "Python 3 (ipykernel)",
   "language": "python",
   "name": "python3"
  },
  "language_info": {
   "codemirror_mode": {
    "name": "ipython",
    "version": 3
   },
   "file_extension": ".py",
   "mimetype": "text/x-python",
   "name": "python",
   "nbconvert_exporter": "python",
   "pygments_lexer": "ipython3",
   "version": "3.10.12"
  }
 },
 "nbformat": 4,
 "nbformat_minor": 5
}
