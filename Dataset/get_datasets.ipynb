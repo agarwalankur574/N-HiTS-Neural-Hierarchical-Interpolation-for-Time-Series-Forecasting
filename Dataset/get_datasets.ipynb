{
 "cells": [
  {
   "cell_type": "code",
   "execution_count": 1,
   "id": "b23d7599-d7e7-4918-8391-f1933f2ea785",
   "metadata": {
    "scrolled": true
   },
   "outputs": [
    {
     "name": "stdout",
     "output_type": "stream",
     "text": [
      "Defaulting to user installation because normal site-packages is not writeable\n",
      "Requirement already satisfied: neuralforecast in /home/blair/.local/lib/python3.10/site-packages (1.6.4)\n",
      "Requirement already satisfied: datasetsforecast in /home/blair/.local/lib/python3.10/site-packages (0.0.8)\n",
      "Requirement already satisfied: numba in /home/blair/.local/lib/python3.10/site-packages (from neuralforecast) (0.58.0)\n",
      "Requirement already satisfied: numpy>=1.21.6 in /home/blair/.local/lib/python3.10/site-packages (from neuralforecast) (1.25.2)\n",
      "Requirement already satisfied: optuna in /home/blair/.local/lib/python3.10/site-packages (from neuralforecast) (3.4.0)\n",
      "Requirement already satisfied: pandas>=1.3.5 in /home/blair/.local/lib/python3.10/site-packages (from neuralforecast) (2.1.1)\n",
      "Requirement already satisfied: pytorch-lightning>=2.0.0 in /home/blair/.local/lib/python3.10/site-packages (from neuralforecast) (2.1.0)\n",
      "Requirement already satisfied: ray>=2.2.0 in /home/blair/.local/lib/python3.10/site-packages (from ray[tune]>=2.2.0->neuralforecast) (2.7.1)\n",
      "Requirement already satisfied: torch>=2.0.0 in /home/blair/.local/lib/python3.10/site-packages (from neuralforecast) (2.1.0)\n",
      "Requirement already satisfied: utilsforecast>=0.0.6 in /home/blair/.local/lib/python3.10/site-packages (from neuralforecast) (0.0.8)\n",
      "Requirement already satisfied: aiohttp in /home/blair/.local/lib/python3.10/site-packages (from datasetsforecast) (3.8.6)\n",
      "Requirement already satisfied: fugue>=0.8.1 in /home/blair/.local/lib/python3.10/site-packages (from datasetsforecast) (0.8.6)\n",
      "Requirement already satisfied: requests in /home/blair/.local/lib/python3.10/site-packages (from datasetsforecast) (2.31.0)\n",
      "Requirement already satisfied: tqdm in /home/blair/.local/lib/python3.10/site-packages (from datasetsforecast) (4.66.1)\n",
      "Requirement already satisfied: xlrd>=1.0.0 in /home/blair/.local/lib/python3.10/site-packages (from datasetsforecast) (2.0.1)\n",
      "Requirement already satisfied: triad>=0.9.1 in /home/blair/.local/lib/python3.10/site-packages (from fugue>=0.8.1->datasetsforecast) (0.9.1)\n",
      "Requirement already satisfied: adagio>=0.2.4 in /home/blair/.local/lib/python3.10/site-packages (from fugue>=0.8.1->datasetsforecast) (0.2.4)\n",
      "Requirement already satisfied: pyarrow>=0.15.1 in /home/blair/.local/lib/python3.10/site-packages (from fugue>=0.8.1->datasetsforecast) (13.0.0)\n",
      "Requirement already satisfied: qpd>=0.4.4 in /home/blair/.local/lib/python3.10/site-packages (from fugue>=0.8.1->datasetsforecast) (0.4.4)\n",
      "Requirement already satisfied: fugue-sql-antlr>=0.1.6 in /home/blair/.local/lib/python3.10/site-packages (from fugue>=0.8.1->datasetsforecast) (0.1.7)\n",
      "Requirement already satisfied: sqlglot in /home/blair/.local/lib/python3.10/site-packages (from fugue>=0.8.1->datasetsforecast) (18.15.0)\n",
      "Requirement already satisfied: jinja2 in /home/blair/.local/lib/python3.10/site-packages (from fugue>=0.8.1->datasetsforecast) (3.1.2)\n",
      "Requirement already satisfied: python-dateutil>=2.8.2 in /home/blair/.local/lib/python3.10/site-packages (from pandas>=1.3.5->neuralforecast) (2.8.2)\n",
      "Requirement already satisfied: pytz>=2020.1 in /home/blair/.local/lib/python3.10/site-packages (from pandas>=1.3.5->neuralforecast) (2023.3.post1)\n",
      "Requirement already satisfied: tzdata>=2022.1 in /home/blair/.local/lib/python3.10/site-packages (from pandas>=1.3.5->neuralforecast) (2023.3)\n",
      "Requirement already satisfied: PyYAML>=5.4 in /usr/lib/python3/dist-packages (from pytorch-lightning>=2.0.0->neuralforecast) (5.4.1)\n",
      "Requirement already satisfied: fsspec>2021.06.0 in /home/blair/.local/lib/python3.10/site-packages (from fsspec[http]>2021.06.0->pytorch-lightning>=2.0.0->neuralforecast) (2023.9.2)\n",
      "Requirement already satisfied: torchmetrics>=0.7.0 in /home/blair/.local/lib/python3.10/site-packages (from pytorch-lightning>=2.0.0->neuralforecast) (1.2.0)\n",
      "Requirement already satisfied: packaging>=20.0 in /home/blair/.local/lib/python3.10/site-packages (from pytorch-lightning>=2.0.0->neuralforecast) (23.2)\n",
      "Requirement already satisfied: typing-extensions>=4.0.0 in /home/blair/.local/lib/python3.10/site-packages (from pytorch-lightning>=2.0.0->neuralforecast) (4.8.0)\n",
      "Requirement already satisfied: lightning-utilities>=0.8.0 in /home/blair/.local/lib/python3.10/site-packages (from pytorch-lightning>=2.0.0->neuralforecast) (0.9.0)\n",
      "Requirement already satisfied: click>=7.0 in /home/blair/.local/lib/python3.10/site-packages (from ray>=2.2.0->ray[tune]>=2.2.0->neuralforecast) (8.1.7)\n",
      "Requirement already satisfied: filelock in /home/blair/.local/lib/python3.10/site-packages (from ray>=2.2.0->ray[tune]>=2.2.0->neuralforecast) (3.12.4)\n",
      "Requirement already satisfied: jsonschema in /home/blair/.local/lib/python3.10/site-packages (from ray>=2.2.0->ray[tune]>=2.2.0->neuralforecast) (4.19.1)\n",
      "Requirement already satisfied: msgpack<2.0.0,>=1.0.0 in /home/blair/.local/lib/python3.10/site-packages (from ray>=2.2.0->ray[tune]>=2.2.0->neuralforecast) (1.0.7)\n",
      "Requirement already satisfied: protobuf!=3.19.5,>=3.15.3 in /home/blair/.local/lib/python3.10/site-packages (from ray>=2.2.0->ray[tune]>=2.2.0->neuralforecast) (4.24.4)\n",
      "Requirement already satisfied: aiosignal in /home/blair/.local/lib/python3.10/site-packages (from ray>=2.2.0->ray[tune]>=2.2.0->neuralforecast) (1.3.1)\n",
      "Requirement already satisfied: frozenlist in /home/blair/.local/lib/python3.10/site-packages (from ray>=2.2.0->ray[tune]>=2.2.0->neuralforecast) (1.4.0)\n",
      "Requirement already satisfied: tensorboardX>=1.9 in /home/blair/.local/lib/python3.10/site-packages (from ray[tune]>=2.2.0->neuralforecast) (2.6.2.2)\n",
      "Requirement already satisfied: sympy in /home/blair/.local/lib/python3.10/site-packages (from torch>=2.0.0->neuralforecast) (1.12)\n",
      "Requirement already satisfied: networkx in /home/blair/.local/lib/python3.10/site-packages (from torch>=2.0.0->neuralforecast) (3.1)\n",
      "Requirement already satisfied: nvidia-cuda-nvrtc-cu12==12.1.105 in /home/blair/.local/lib/python3.10/site-packages (from torch>=2.0.0->neuralforecast) (12.1.105)\n",
      "Requirement already satisfied: nvidia-cuda-runtime-cu12==12.1.105 in /home/blair/.local/lib/python3.10/site-packages (from torch>=2.0.0->neuralforecast) (12.1.105)\n",
      "Requirement already satisfied: nvidia-cuda-cupti-cu12==12.1.105 in /home/blair/.local/lib/python3.10/site-packages (from torch>=2.0.0->neuralforecast) (12.1.105)\n",
      "Requirement already satisfied: nvidia-cudnn-cu12==8.9.2.26 in /home/blair/.local/lib/python3.10/site-packages (from torch>=2.0.0->neuralforecast) (8.9.2.26)\n",
      "Requirement already satisfied: nvidia-cublas-cu12==12.1.3.1 in /home/blair/.local/lib/python3.10/site-packages (from torch>=2.0.0->neuralforecast) (12.1.3.1)\n",
      "Requirement already satisfied: nvidia-cufft-cu12==11.0.2.54 in /home/blair/.local/lib/python3.10/site-packages (from torch>=2.0.0->neuralforecast) (11.0.2.54)\n",
      "Requirement already satisfied: nvidia-curand-cu12==10.3.2.106 in /home/blair/.local/lib/python3.10/site-packages (from torch>=2.0.0->neuralforecast) (10.3.2.106)\n",
      "Requirement already satisfied: nvidia-cusolver-cu12==11.4.5.107 in /home/blair/.local/lib/python3.10/site-packages (from torch>=2.0.0->neuralforecast) (11.4.5.107)\n",
      "Requirement already satisfied: nvidia-cusparse-cu12==12.1.0.106 in /home/blair/.local/lib/python3.10/site-packages (from torch>=2.0.0->neuralforecast) (12.1.0.106)\n",
      "Requirement already satisfied: nvidia-nccl-cu12==2.18.1 in /home/blair/.local/lib/python3.10/site-packages (from torch>=2.0.0->neuralforecast) (2.18.1)\n",
      "Requirement already satisfied: nvidia-nvtx-cu12==12.1.105 in /home/blair/.local/lib/python3.10/site-packages (from torch>=2.0.0->neuralforecast) (12.1.105)\n",
      "Requirement already satisfied: triton==2.1.0 in /home/blair/.local/lib/python3.10/site-packages (from torch>=2.0.0->neuralforecast) (2.1.0)\n",
      "Requirement already satisfied: nvidia-nvjitlink-cu12 in /home/blair/.local/lib/python3.10/site-packages (from nvidia-cusolver-cu12==11.4.5.107->torch>=2.0.0->neuralforecast) (12.2.140)\n",
      "Requirement already satisfied: attrs>=17.3.0 in /home/blair/.local/lib/python3.10/site-packages (from aiohttp->datasetsforecast) (23.1.0)\n",
      "Requirement already satisfied: charset-normalizer<4.0,>=2.0 in /home/blair/.local/lib/python3.10/site-packages (from aiohttp->datasetsforecast) (3.3.0)\n",
      "Requirement already satisfied: multidict<7.0,>=4.5 in /home/blair/.local/lib/python3.10/site-packages (from aiohttp->datasetsforecast) (6.0.4)\n",
      "Requirement already satisfied: async-timeout<5.0,>=4.0.0a3 in /home/blair/.local/lib/python3.10/site-packages (from aiohttp->datasetsforecast) (4.0.3)\n",
      "Requirement already satisfied: yarl<2.0,>=1.0 in /home/blair/.local/lib/python3.10/site-packages (from aiohttp->datasetsforecast) (1.9.2)\n",
      "Requirement already satisfied: llvmlite<0.42,>=0.41.0dev0 in /home/blair/.local/lib/python3.10/site-packages (from numba->neuralforecast) (0.41.0)\n",
      "Requirement already satisfied: alembic>=1.5.0 in /home/blair/.local/lib/python3.10/site-packages (from optuna->neuralforecast) (1.12.0)\n",
      "Requirement already satisfied: colorlog in /home/blair/.local/lib/python3.10/site-packages (from optuna->neuralforecast) (6.7.0)\n",
      "Requirement already satisfied: sqlalchemy>=1.3.0 in /home/blair/.local/lib/python3.10/site-packages (from optuna->neuralforecast) (2.0.22)\n",
      "Requirement already satisfied: idna<4,>=2.5 in /home/blair/.local/lib/python3.10/site-packages (from requests->datasetsforecast) (3.4)\n",
      "Requirement already satisfied: urllib3<3,>=1.21.1 in /home/blair/.local/lib/python3.10/site-packages (from requests->datasetsforecast) (2.0.6)\n",
      "Requirement already satisfied: certifi>=2017.4.17 in /home/blair/.local/lib/python3.10/site-packages (from requests->datasetsforecast) (2023.7.22)\n",
      "Requirement already satisfied: Mako in /home/blair/.local/lib/python3.10/site-packages (from alembic>=1.5.0->optuna->neuralforecast) (1.2.4)\n",
      "Requirement already satisfied: antlr4-python3-runtime<4.12,>=4.11.1 in /home/blair/.local/lib/python3.10/site-packages (from fugue-sql-antlr>=0.1.6->fugue>=0.8.1->datasetsforecast) (4.11.1)\n",
      "Requirement already satisfied: six>=1.5 in /usr/lib/python3/dist-packages (from python-dateutil>=2.8.2->pandas>=1.3.5->neuralforecast) (1.16.0)\n",
      "Requirement already satisfied: greenlet!=0.4.17 in /home/blair/.local/lib/python3.10/site-packages (from sqlalchemy>=1.3.0->optuna->neuralforecast) (3.0.0)\n",
      "Requirement already satisfied: fs in /home/blair/.local/lib/python3.10/site-packages (from triad>=0.9.1->fugue>=0.8.1->datasetsforecast) (2.4.16)\n",
      "Requirement already satisfied: MarkupSafe>=2.0 in /home/blair/.local/lib/python3.10/site-packages (from jinja2->fugue>=0.8.1->datasetsforecast) (2.1.3)\n",
      "Requirement already satisfied: jsonschema-specifications>=2023.03.6 in /home/blair/.local/lib/python3.10/site-packages (from jsonschema->ray>=2.2.0->ray[tune]>=2.2.0->neuralforecast) (2023.7.1)\n",
      "Requirement already satisfied: referencing>=0.28.4 in /home/blair/.local/lib/python3.10/site-packages (from jsonschema->ray>=2.2.0->ray[tune]>=2.2.0->neuralforecast) (0.30.2)\n",
      "Requirement already satisfied: rpds-py>=0.7.1 in /home/blair/.local/lib/python3.10/site-packages (from jsonschema->ray>=2.2.0->ray[tune]>=2.2.0->neuralforecast) (0.10.6)\n",
      "Requirement already satisfied: mpmath>=0.19 in /home/blair/.local/lib/python3.10/site-packages (from sympy->torch>=2.0.0->neuralforecast) (1.3.0)\n",
      "Requirement already satisfied: appdirs~=1.4.3 in /home/blair/.local/lib/python3.10/site-packages (from fs->triad>=0.9.1->fugue>=0.8.1->datasetsforecast) (1.4.4)\n",
      "Requirement already satisfied: setuptools in /usr/lib/python3/dist-packages (from fs->triad>=0.9.1->fugue>=0.8.1->datasetsforecast) (59.6.0)\n"
     ]
    }
   ],
   "source": [
    "!pip install neuralforecast datasetsforecast"
   ]
  },
  {
   "cell_type": "code",
   "execution_count": 6,
   "id": "74f59254-48a7-4966-988e-dfeed64d9a0f",
   "metadata": {},
   "outputs": [],
   "source": [
    "import pandas as pd\n",
    "from datasetsforecast.long_horizon import LongHorizon\n",
    "from neuralforecast.models import NBEATS"
   ]
  },
  {
   "cell_type": "code",
   "execution_count": 3,
   "id": "7888d54a-b492-4ead-893c-432e51b97531",
   "metadata": {},
   "outputs": [
    {
     "name": "stderr",
     "output_type": "stream",
     "text": [
      "100%|███████████████████████████████████████████████████████████████████████████████| 314M/314M [04:27<00:00, 1.18MiB/s]\n",
      "INFO:datasetsforecast.utils:Successfully downloaded datasets.zip, 314116557, bytes.\n",
      "INFO:datasetsforecast.utils:Decompressing zip file...\n",
      "INFO:datasetsforecast.utils:Successfully decompressed longhorizon/datasets/datasets.zip\n"
     ]
    }
   ],
   "source": [
    "\n",
    "df_ETTm2, _, _ = LongHorizon.load(directory='./', group='ETTm2')\n",
    "df_Exchange, _, _ = LongHorizon.load(directory='./', group='Exchange')\n",
    "df_ECL, _, _ = LongHorizon.load(directory='./', group='ECL')\n",
    "df_TrafficL, _, _ = LongHorizon.load(directory='./', group='TrafficL')\n",
    "df_Weather, _, _ = LongHorizon.load(directory='./', group='Weather')\n",
    "df_ILI, _, _ = LongHorizon.load(directory='./', group='ILI')\n"
   ]
  },
  {
   "cell_type": "code",
   "execution_count": 4,
   "id": "093dca99-8f79-4078-aff7-3349af22dc90",
   "metadata": {},
   "outputs": [],
   "source": [
    "df_ETTm2.to_csv('raw_data/df_ETTm2.csv',index=False)\n",
    "df_Exchange.to_csv('raw_data/df_Exchange.csv',index=False)\n",
    "df_ECL.to_csv('raw_data/df_ECL.csv',index=False)\n",
    "df_TrafficL.to_csv('raw_data/df_TrafficL.csv',index=False)\n",
    "df_Weather.to_csv('raw_data/df_Weather.csv',index=False)\n",
    "df_ILI.to_csv('raw_data/df_ILI.csv',index=False)"
   ]
  },
  {
   "cell_type": "code",
   "execution_count": null,
   "id": "112a9f5b-62e9-4f13-836e-c454511c3e25",
   "metadata": {},
   "outputs": [],
   "source": [
    "model = NBEATS(h=96, input_size=480,\n",
    "               loss=DistributionLoss(distribution='Poisson', level=[80, 90]),\n",
    "               stack_types = ['identity', 'trend', 'seasonality'],\n",
    "               max_steps=100,\n",
    "               val_check_steps=10,\n",
    "               early_stop_patience_steps=2)\n",
    "\n",
    "fcst_ETTm2 = NeuralForecast(\n",
    "    models=[model],\n",
    "    freq='15min'\n",
    ")\n",
    "\n",
    "df_ETTm2['ds'] = pd.to_datetime(df_ETTm2['ds'])\n",
    "n_time = len(df_ETTm2['ds'].unique())\n",
    "val_size = int(0.1 * n_time)\n",
    "test_size = int(0.2 * n_time)\n",
    "\n",
    "fcst.fit(df=Y_train_df, static_df=AirPassengersStatic, val_size=val_size)\n",
    "forecasts = fcst.predict(futr_df=Y_test_df)"
   ]
  },
  {
   "cell_type": "code",
   "execution_count": 5,
   "id": "bf92e374-22a1-48de-a076-f82bf08a1039",
   "metadata": {},
   "outputs": [
    {
     "name": "stdout",
     "output_type": "stream",
     "text": [
      "For DataFrame df_ETTm2:\n",
      "n_time: 57600\n",
      "val_size: 5760\n",
      "test_size: 11520\n",
      "For DataFrame df_Exchange:\n",
      "n_time: 7588\n",
      "val_size: 758\n",
      "test_size: 1517\n",
      "For DataFrame df_ECL:\n",
      "n_time: 26304\n",
      "val_size: 2630\n",
      "test_size: 5260\n",
      "For DataFrame df_TrafficL:\n",
      "n_time: 17544\n",
      "val_size: 1754\n",
      "test_size: 3508\n",
      "For DataFrame df_Weather:\n",
      "n_time: 52695\n",
      "val_size: 5269\n",
      "test_size: 10539\n",
      "For DataFrame df_ILI:\n",
      "n_time: 966\n",
      "val_size: 96\n",
      "test_size: 193\n"
     ]
    }
   ],
   "source": [
    "# Create a dictionary to store DataFrames and their associated values\n",
    "dfs = {\n",
    "    'df_ETTm2': df_ETTm2,\n",
    "    'df_Exchange': df_Exchange,\n",
    "    'df_ECL': df_ECL,\n",
    "    'df_TrafficL': df_TrafficL,\n",
    "    'df_Weather': df_Weather,\n",
    "    'df_ILI': df_ILI\n",
    "}\n",
    "\n",
    "for df_name, df in dfs.items():\n",
    "    df['ds'] = pd.to_datetime(df['ds'])\n",
    "    n_time = len(df['ds'].unique())\n",
    "    val_size = int(0.1 * n_time)\n",
    "    test_size = int(0.2 * n_time)\n"
   ]
  },
  {
   "cell_type": "code",
   "execution_count": null,
   "id": "1238bbd1-8d9c-440c-945f-f50224987358",
   "metadata": {},
   "outputs": [],
   "source": []
  }
 ],
 "metadata": {
  "kernelspec": {
   "display_name": "Python 3 (ipykernel)",
   "language": "python",
   "name": "python3"
  },
  "language_info": {
   "codemirror_mode": {
    "name": "ipython",
    "version": 3
   },
   "file_extension": ".py",
   "mimetype": "text/x-python",
   "name": "python",
   "nbconvert_exporter": "python",
   "pygments_lexer": "ipython3",
   "version": "3.10.12"
  }
 },
 "nbformat": 4,
 "nbformat_minor": 5
}
