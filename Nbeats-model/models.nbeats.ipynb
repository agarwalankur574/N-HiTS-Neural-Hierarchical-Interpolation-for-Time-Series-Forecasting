{
 "cells": [
  {
   "cell_type": "code",
   "execution_count": 1,
   "id": "524620c1",
   "metadata": {},
   "outputs": [],
   "source": [
    "#| default_exp models.nbeats"
   ]
  },
  {
   "cell_type": "code",
   "execution_count": 2,
   "id": "15392f6f",
   "metadata": {},
   "outputs": [],
   "source": [
    "#| hide\n",
    "%load_ext autoreload\n",
    "%autoreload 2"
   ]
  },
  {
   "cell_type": "markdown",
   "id": "12fa25a4",
   "metadata": {},
   "source": [
    "# NBEATS"
   ]
  },
  {
   "cell_type": "markdown",
   "id": "376a8a3a",
   "metadata": {},
   "source": [
    "The Neural Basis Expansion Analysis (`NBEATS`) is an `MLP`-based deep neural architecture with backward and forward residual links. The network has two variants: (1) in its interpretable configuration, `NBEATS` sequentially projects the signal into polynomials and harmonic basis to learn trend and seasonality components; (2) in its generic configuration, it substitutes the polynomial and harmonic basis for identity basis and larger network's depth. The Neural Basis Expansion Analysis with Exogenous (`NBEATSx`), incorporates projections to exogenous temporal variables available at the time of the prediction.\n",
    "\n",
    "This method proved state-of-the-art performance on the M3, M4, and Tourism Competition datasets, improving accuracy by 3% over the `ESRNN` M4 competition winner.\n",
    "\n",
    "**References**<br>\n",
    "-[Boris N. Oreshkin, Dmitri Carpov, Nicolas Chapados, Yoshua Bengio (2019). \"N-BEATS: Neural basis expansion analysis for interpretable time series forecasting\".](https://arxiv.org/abs/1905.10437)"
   ]
  },
  {
   "cell_type": "markdown",
   "id": "bddd17a6",
   "metadata": {},
   "source": [
    "![Figure 1. Neural Basis Expansion Analysis.](imgs_models/nbeats.png)"
   ]
  },
  {
   "cell_type": "code",
   "execution_count": 3,
   "id": "44065066-e72a-431f-938f-1528adef9fe8",
   "metadata": {},
   "outputs": [],
   "source": [
    "#| export\n",
    "from typing import Tuple, Optional\n",
    "\n",
    "import numpy as np\n",
    "import torch\n",
    "import torch.nn as nn\n",
    "\n",
    "from neuralforecast.losses.pytorch import MAE\n",
    "from neuralforecast.common._base_windows import BaseWindows"
   ]
  },
  {
   "cell_type": "code",
   "execution_count": 4,
   "id": "4a77bb35",
   "metadata": {},
   "outputs": [],
   "source": [
    "#| hide\n",
    "from fastcore.test import test_eq\n",
    "from nbdev.showdoc import show_doc\n",
    "from neuralforecast.utils import generate_series\n",
    "\n",
    "import matplotlib.pyplot as plt"
   ]
  },
  {
   "cell_type": "code",
   "execution_count": 5,
   "id": "9b7a9fae-2c29-47e2-874e-ca1f20bf7040",
   "metadata": {},
   "outputs": [],
   "source": [
    "#| exporti\n",
    "class IdentityBasis(nn.Module):\n",
    "    def __init__(self, backcast_size: int, forecast_size: int,\n",
    "                 out_features: int=1):\n",
    "        super().__init__()\n",
    "        self.out_features = out_features\n",
    "        self.forecast_size = forecast_size\n",
    "        self.backcast_size = backcast_size\n",
    " \n",
    "    def forward(self, theta: torch.Tensor) -> Tuple[torch.Tensor, torch.Tensor]:\n",
    "        backcast = theta[:, :self.backcast_size]\n",
    "        forecast = theta[:, self.backcast_size:]\n",
    "        forecast = forecast.reshape(len(forecast), -1, self.out_features)\n",
    "        return backcast, forecast\n",
    "\n",
    "class TrendBasis(nn.Module):\n",
    "    def __init__(self, degree_of_polynomial: int,\n",
    "                 backcast_size: int, forecast_size: int,\n",
    "                 out_features: int=1):\n",
    "        super().__init__()\n",
    "        self.out_features = out_features\n",
    "        polynomial_size = degree_of_polynomial + 1\n",
    "        self.backcast_basis = nn.Parameter(\n",
    "            torch.tensor(np.concatenate([np.power(np.arange(backcast_size, dtype=float) / backcast_size, i)[None, :]\n",
    "                                    for i in range(polynomial_size)]), dtype=torch.float32), requires_grad=False)\n",
    "        self.forecast_basis = nn.Parameter(\n",
    "            torch.tensor(np.concatenate([np.power(np.arange(forecast_size, dtype=float) / forecast_size, i)[None, :]\n",
    "                                    for i in range(polynomial_size)]), dtype=torch.float32), requires_grad=False)\n",
    "    \n",
    "    def forward(self, theta: torch.Tensor) -> Tuple[torch.Tensor, torch.Tensor]:\n",
    "        polynomial_size = self.forecast_basis.shape[0] # [polynomial_size, L+H]\n",
    "        backcast_theta = theta[:, :polynomial_size]\n",
    "        forecast_theta = theta[:, polynomial_size:]\n",
    "        forecast_theta = forecast_theta.reshape(len(forecast_theta),polynomial_size,-1)\n",
    "        backcast = torch.einsum('bp,pt->bt', backcast_theta, self.backcast_basis)\n",
    "        forecast = torch.einsum('bpq,pt->btq', forecast_theta, self.forecast_basis)\n",
    "        return backcast, forecast\n",
    "\n",
    "class SeasonalityBasis(nn.Module):\n",
    "    def __init__(self, harmonics: int, \n",
    "                 backcast_size: int, forecast_size: int,\n",
    "                 out_features: int=1):\n",
    "        super().__init__()\n",
    "        self.out_features = out_features\n",
    "        frequency = np.append(np.zeros(1, dtype=float),\n",
    "                                        np.arange(harmonics, harmonics / 2 * forecast_size,\n",
    "                                                    dtype=float) / harmonics)[None, :]\n",
    "        backcast_grid = -2 * np.pi * (\n",
    "                np.arange(backcast_size, dtype=float)[:, None] / forecast_size) * frequency\n",
    "        forecast_grid = 2 * np.pi * (\n",
    "                np.arange(forecast_size, dtype=float)[:, None] / forecast_size) * frequency\n",
    "\n",
    "        backcast_cos_template = torch.tensor(np.transpose(np.cos(backcast_grid)), dtype=torch.float32)\n",
    "        backcast_sin_template = torch.tensor(np.transpose(np.sin(backcast_grid)), dtype=torch.float32)\n",
    "        backcast_template = torch.cat([backcast_cos_template, backcast_sin_template], dim=0)\n",
    "\n",
    "        forecast_cos_template = torch.tensor(np.transpose(np.cos(forecast_grid)), dtype=torch.float32)\n",
    "        forecast_sin_template = torch.tensor(np.transpose(np.sin(forecast_grid)), dtype=torch.float32)\n",
    "        forecast_template = torch.cat([forecast_cos_template, forecast_sin_template], dim=0)\n",
    "\n",
    "        self.backcast_basis = nn.Parameter(backcast_template, requires_grad=False)\n",
    "        self.forecast_basis = nn.Parameter(forecast_template, requires_grad=False)\n",
    "\n",
    "    def forward(self, theta: torch.Tensor) -> Tuple[torch.Tensor, torch.Tensor]:\n",
    "        harmonic_size = self.forecast_basis.shape[0] # [harmonic_size, L+H]\n",
    "        backcast_theta = theta[:, :harmonic_size]\n",
    "        forecast_theta = theta[:, harmonic_size:]\n",
    "        forecast_theta = forecast_theta.reshape(len(forecast_theta),harmonic_size,-1)\n",
    "        backcast = torch.einsum('bp,pt->bt', backcast_theta, self.backcast_basis)\n",
    "        forecast = torch.einsum('bpq,pt->btq', forecast_theta, self.forecast_basis)\n",
    "        return backcast, forecast"
   ]
  },
  {
   "cell_type": "code",
   "execution_count": 6,
   "id": "17382790-7d84-4a89-959b-5676afa46392",
   "metadata": {},
   "outputs": [],
   "source": [
    "#| exporti\n",
    "ACTIVATIONS = ['ReLU',\n",
    "               'Softplus',\n",
    "               'Tanh',\n",
    "               'SELU',\n",
    "               'LeakyReLU',\n",
    "               'PReLU',\n",
    "               'Sigmoid']\n",
    "\n",
    "class NBEATSBlock(nn.Module):\n",
    "    \"\"\"\n",
    "    N-BEATS block which takes a basis function as an argument.\n",
    "    \"\"\"\n",
    "    def __init__(self, \n",
    "                 input_size: int,\n",
    "                 n_theta: int, \n",
    "                 mlp_units: list,\n",
    "                 basis: nn.Module, \n",
    "                 dropout_prob: float, \n",
    "                 activation: str):\n",
    "        \"\"\"\n",
    "        \"\"\"\n",
    "        super().__init__()\n",
    "\n",
    "        self.dropout_prob = dropout_prob\n",
    "        \n",
    "        assert activation in ACTIVATIONS, f'{activation} is not in {ACTIVATIONS}'\n",
    "        activ = getattr(nn, activation)()\n",
    "        \n",
    "        hidden_layers = [nn.Linear(in_features=input_size, \n",
    "                                   out_features=mlp_units[0][0])]\n",
    "        for layer in mlp_units:\n",
    "            hidden_layers.append(nn.Linear(in_features=layer[0], \n",
    "                                           out_features=layer[1]))\n",
    "            hidden_layers.append(activ)\n",
    "\n",
    "            if self.dropout_prob>0:\n",
    "                raise NotImplementedError('dropout')\n",
    "                #hidden_layers.append(nn.Dropout(p=self.dropout_prob))\n",
    "\n",
    "        output_layer = [nn.Linear(in_features=mlp_units[-1][1], out_features=n_theta)]\n",
    "        layers = hidden_layers + output_layer\n",
    "        self.layers = nn.Sequential(*layers)\n",
    "        self.basis = basis\n",
    "\n",
    "    def forward(self, insample_y: torch.Tensor) -> Tuple[torch.Tensor, torch.Tensor]:\n",
    "        # Compute local projection weights and projection\n",
    "        theta = self.layers(insample_y)\n",
    "        backcast, forecast = self.basis(theta)\n",
    "        return backcast, forecast"
   ]
  },
  {
   "cell_type": "code",
   "execution_count": 7,
   "id": "be997aeb-778f-442d-a97a-ff47de2deab6",
   "metadata": {},
   "outputs": [],
   "source": [
    "#| export\n",
    "class NBEATS(BaseWindows):\n",
    "    \"\"\" NBEATS\n",
    "\n",
    "    The Neural Basis Expansion Analysis for Time Series (NBEATS), is a simple and yet\n",
    "    effective architecture, it is built with a deep stack of MLPs with the doubly \n",
    "    residual connections. It has a generic and interpretable architecture depending\n",
    "    on the blocks it uses. Its interpretable architecture is recommended for scarce\n",
    "    data settings, as it regularizes its predictions through projections unto harmonic\n",
    "    and trend basis well-suited for most forecasting tasks.\n",
    "\n",
    "    **Parameters:**<br>\n",
    "    `h`: int, forecast horizon.<br>\n",
    "    `input_size`: int, considered autorregresive inputs (lags), y=[1,2,3,4] input_size=2 -> lags=[1,2].<br>\n",
    "    `n_harmonics`: int, Number of harmonic terms for seasonality stack type. Note that len(n_harmonics) = len(stack_types). Note that it will only be used if a seasonality stack is used.<br>\n",
    "    `n_polynomials`: int, polynomial degree for trend stack. Note that len(n_polynomials) = len(stack_types). Note that it will only be used if a trend stack is used.<br>\n",
    "    `stack_types`: List[str], List of stack types. Subset from ['seasonality', 'trend', 'identity'].<br>\n",
    "    `n_blocks`: List[int], Number of blocks for each stack. Note that len(n_blocks) = len(stack_types).<br>\n",
    "    `mlp_units`: List[List[int]], Structure of hidden layers for each stack type. Each internal list should contain the number of units of each hidden layer. Note that len(n_hidden) = len(stack_types).<br>\n",
    "    `dropout_prob_theta`: float, Float between (0, 1). Dropout for N-BEATS basis.<br>\n",
    "    `shared_weights`: bool, If True, all blocks within each stack will share parameters. <br>\n",
    "    `activation`: str, activation from ['ReLU', 'Softplus', 'Tanh', 'SELU', 'LeakyReLU', 'PReLU', 'Sigmoid'].<br>\n",
    "    `loss`: PyTorch module, instantiated train loss class from [losses collection](https://nixtla.github.io/neuralforecast/losses.pytorch.html).<br>\n",
    "    `valid_loss`: PyTorch module=`loss`, instantiated valid loss class from [losses collection](https://nixtla.github.io/neuralforecast/losses.pytorch.html).<br>\n",
    "    `max_steps`: int=1000, maximum number of training steps.<br>\n",
    "    `learning_rate`: float=1e-3, Learning rate between (0, 1).<br>\n",
    "    `num_lr_decays`: int=3, Number of learning rate decays, evenly distributed across max_steps.<br>\n",
    "    `early_stop_patience_steps`: int=-1, Number of validation iterations before early stopping.<br>\n",
    "    `val_check_steps`: int=100, Number of training steps between every validation loss check.<br>\n",
    "    `batch_size`: int=32, number of different series in each batch.<br>\n",
    "    `valid_batch_size`: int=None, number of different series in each validation and test batch, if None uses batch_size.<br>\n",
    "    `windows_batch_size`: int=1024, number of windows to sample in each training batch, default uses all.<br>\n",
    "    `inference_windows_batch_size`: int=-1, number of windows to sample in each inference batch, -1 uses all.<br>\n",
    "    `start_padding_enabled`: bool=False, if True, the model will pad the time series with zeros at the beginning, by input size.<br>\n",
    "    `step_size`: int=1, step size between each window of temporal data.<br>\n",
    "    `scaler_type`: str='identity', type of scaler for temporal inputs normalization see [temporal scalers](https://nixtla.github.io/neuralforecast/common.scalers.html).<br>\n",
    "    `random_seed`: int, random_seed for pytorch initializer and numpy generators.<br>\n",
    "    `num_workers_loader`: int=os.cpu_count(), workers to be used by `TimeSeriesDataLoader`.<br>\n",
    "    `drop_last_loader`: bool=False, if True `TimeSeriesDataLoader` drops last non-full batch.<br>\n",
    "    `alias`: str, optional,  Custom name of the model.<br>\n",
    "    `**trainer_kwargs`: int,  keyword trainer arguments inherited from [PyTorch Lighning's trainer](https://pytorch-lightning.readthedocs.io/en/stable/api/pytorch_lightning.trainer.trainer.Trainer.html?highlight=trainer).<br>\n",
    "\n",
    "    **References:**<br>\n",
    "    -[Boris N. Oreshkin, Dmitri Carpov, Nicolas Chapados, Yoshua Bengio (2019). \n",
    "    \"N-BEATS: Neural basis expansion analysis for interpretable time series forecasting\".](https://arxiv.org/abs/1905.10437)\n",
    "    \"\"\"\n",
    "    # Class attributes\n",
    "    SAMPLING_TYPE = 'windows'\n",
    "    \n",
    "    def __init__(self,\n",
    "                 h,\n",
    "                 input_size,\n",
    "                 n_harmonics: int = 2,\n",
    "                 n_polynomials: int = 2,\n",
    "                 stack_types: list = ['identity', 'trend', 'seasonality'],\n",
    "                 n_blocks: list = [1, 1, 1],\n",
    "                 mlp_units: list = 3 * [[512, 512]],\n",
    "                 dropout_prob_theta: float = 0.,\n",
    "                 activation: str = 'ReLU',\n",
    "                 shared_weights: bool = False,                 \n",
    "                 loss = MAE(),\n",
    "                 valid_loss = None,\n",
    "                 max_steps: int = 1000,\n",
    "                 learning_rate: float = 1e-3,\n",
    "                 num_lr_decays: int = 3,\n",
    "                 early_stop_patience_steps: int =-1,\n",
    "                 val_check_steps: int = 100,\n",
    "                 batch_size: int = 32,\n",
    "                 valid_batch_size: Optional[int] = None,\n",
    "                 windows_batch_size: int = 1024,\n",
    "                 inference_windows_batch_size: int = -1,\n",
    "                 start_padding_enabled = False,\n",
    "                 step_size: int = 1,\n",
    "                 scaler_type: str ='identity',\n",
    "                 random_seed: int = 1,\n",
    "                 num_workers_loader: int = 0,\n",
    "                 drop_last_loader: bool = False,\n",
    "                 **trainer_kwargs):\n",
    "\n",
    "        # Inherit BaseWindows class\n",
    "        super(NBEATS, self).__init__(h=h,\n",
    "                                     input_size=input_size,\n",
    "                                     loss=loss,\n",
    "                                     valid_loss=valid_loss,\n",
    "                                     max_steps=max_steps,\n",
    "                                     learning_rate=learning_rate,\n",
    "                                     num_lr_decays=num_lr_decays,\n",
    "                                     early_stop_patience_steps=early_stop_patience_steps,\n",
    "                                     val_check_steps=val_check_steps,\n",
    "                                     batch_size=batch_size,\n",
    "                                     windows_batch_size=windows_batch_size,\n",
    "                                     valid_batch_size=valid_batch_size,\n",
    "                                     inference_windows_batch_size=inference_windows_batch_size,\n",
    "                                     start_padding_enabled=start_padding_enabled,\n",
    "                                     step_size=step_size,\n",
    "                                     scaler_type=scaler_type,\n",
    "                                     num_workers_loader=num_workers_loader,\n",
    "                                     drop_last_loader=drop_last_loader,\n",
    "                                     random_seed=random_seed,\n",
    "                                     **trainer_kwargs)\n",
    "\n",
    "        # Architecture\n",
    "        blocks = self.create_stack(h=h,\n",
    "                                   input_size=input_size,\n",
    "                                   stack_types=stack_types, \n",
    "                                   n_blocks=n_blocks,\n",
    "                                   mlp_units=mlp_units,\n",
    "                                   dropout_prob_theta=dropout_prob_theta,\n",
    "                                   activation=activation,\n",
    "                                   shared_weights=shared_weights,\n",
    "                                   n_polynomials=n_polynomials, \n",
    "                                   n_harmonics=n_harmonics)\n",
    "        self.blocks = torch.nn.ModuleList(blocks)\n",
    "\n",
    "    def create_stack(self, stack_types, \n",
    "                     n_blocks, \n",
    "                     input_size, \n",
    "                     h, \n",
    "                     mlp_units, \n",
    "                     dropout_prob_theta, \n",
    "                     activation, shared_weights,\n",
    "                     n_polynomials, n_harmonics):                     \n",
    "\n",
    "        block_list = []\n",
    "        for i in range(len(stack_types)):\n",
    "            for block_id in range(n_blocks[i]):\n",
    "\n",
    "                # Shared weights\n",
    "                if shared_weights and block_id>0:\n",
    "                    nbeats_block = block_list[-1]\n",
    "                else:\n",
    "                    if stack_types[i] == 'seasonality':\n",
    "                        n_theta = 2 * (self.loss.outputsize_multiplier + 1) * \\\n",
    "                                  int(np.ceil(n_harmonics / 2 * h) - (n_harmonics - 1))\n",
    "                        basis = SeasonalityBasis(harmonics=n_harmonics,\n",
    "                                                 backcast_size=input_size,forecast_size=h,\n",
    "                                                 out_features=self.loss.outputsize_multiplier)\n",
    "\n",
    "                    elif stack_types[i] == 'trend':\n",
    "                        n_theta = (self.loss.outputsize_multiplier + 1) * (n_polynomials + 1)\n",
    "                        basis = TrendBasis(degree_of_polynomial=n_polynomials,\n",
    "                                           backcast_size=input_size,forecast_size=h,\n",
    "                                           out_features=self.loss.outputsize_multiplier)\n",
    "\n",
    "                    elif stack_types[i] == 'identity':\n",
    "                        n_theta = input_size + self.loss.outputsize_multiplier * h\n",
    "                        basis = IdentityBasis(backcast_size=input_size, forecast_size=h,\n",
    "                                              out_features=self.loss.outputsize_multiplier)\n",
    "                    else:\n",
    "                        raise ValueError(f'Block type {stack_types[i]} not found!')\n",
    "\n",
    "                    nbeats_block = NBEATSBlock(input_size=input_size,\n",
    "                                               n_theta=n_theta,\n",
    "                                               mlp_units=mlp_units,\n",
    "                                               basis=basis,\n",
    "                                               dropout_prob=dropout_prob_theta,\n",
    "                                               activation=activation)\n",
    "\n",
    "                # Select type of evaluation and apply it to all layers of block\n",
    "                block_list.append(nbeats_block)\n",
    "                \n",
    "        return block_list\n",
    "\n",
    "    def forward(self, windows_batch):\n",
    "        \n",
    "        # Parse windows_batch\n",
    "        insample_y    = windows_batch['insample_y']\n",
    "        insample_mask = windows_batch['insample_mask']\n",
    "\n",
    "        # NBEATS' forward\n",
    "        residuals = insample_y.flip(dims=(-1,)) # backcast init\n",
    "        insample_mask = insample_mask.flip(dims=(-1,))\n",
    "        \n",
    "        forecast = insample_y[:, -1:, None] # Level with Naive1\n",
    "        block_forecasts = [ forecast.repeat(1, self.h, 1) ]\n",
    "        for i, block in enumerate(self.blocks):\n",
    "            backcast, block_forecast = block(insample_y=residuals)\n",
    "            residuals = (residuals - backcast) * insample_mask\n",
    "            forecast = forecast + block_forecast\n",
    "\n",
    "            if self.decompose_forecast:\n",
    "                block_forecasts.append(block_forecast)\n",
    "\n",
    "        # Adapting output's domain\n",
    "        forecast = self.loss.domain_map(forecast)                \n",
    "\n",
    "        if self.decompose_forecast:\n",
    "            # (n_batch, n_blocks, h, out_features)\n",
    "            block_forecasts = torch.stack(block_forecasts)\n",
    "            block_forecasts = block_forecasts.permute(1,0,2,3)\n",
    "            block_forecasts = block_forecasts.squeeze(-1) # univariate output\n",
    "            return block_forecasts\n",
    "        else:\n",
    "            return forecast"
   ]
  },
  {
   "cell_type": "code",
   "execution_count": 8,
   "id": "c57a831f-94bc-4616-b579-c114c3fc57c7",
   "metadata": {},
   "outputs": [
    {
     "data": {
      "text/markdown": [
       "---\n",
       "\n",
       "### NBEATS\n",
       "\n",
       ">      NBEATS (h, input_size, n_harmonics:int=2, n_polynomials:int=2,\n",
       ">              stack_types:list=['identity', 'trend', 'seasonality'],\n",
       ">              n_blocks:list=[1, 1, 1], mlp_units:list=[[512, 512], [512, 512],\n",
       ">              [512, 512]], dropout_prob_theta:float=0.0, activation:str='ReLU',\n",
       ">              shared_weights:bool=False, loss=MAE(), valid_loss=None,\n",
       ">              max_steps:int=1000, learning_rate:float=0.001,\n",
       ">              num_lr_decays:int=3, early_stop_patience_steps:int=-1,\n",
       ">              val_check_steps:int=100, batch_size:int=32,\n",
       ">              valid_batch_size:Optional[int]=None, windows_batch_size:int=1024,\n",
       ">              inference_windows_batch_size:int=-1, start_padding_enabled=False,\n",
       ">              step_size:int=1, scaler_type:str='identity', random_seed:int=1,\n",
       ">              num_workers_loader:int=0, drop_last_loader:bool=False,\n",
       ">              **trainer_kwargs)\n",
       "\n",
       "NBEATS\n",
       "\n",
       "The Neural Basis Expansion Analysis for Time Series (NBEATS), is a simple and yet\n",
       "effective architecture, it is built with a deep stack of MLPs with the doubly \n",
       "residual connections. It has a generic and interpretable architecture depending\n",
       "on the blocks it uses. Its interpretable architecture is recommended for scarce\n",
       "data settings, as it regularizes its predictions through projections unto harmonic\n",
       "and trend basis well-suited for most forecasting tasks.\n",
       "\n",
       "**Parameters:**<br>\n",
       "`h`: int, forecast horizon.<br>\n",
       "`input_size`: int, considered autorregresive inputs (lags), y=[1,2,3,4] input_size=2 -> lags=[1,2].<br>\n",
       "`n_harmonics`: int, Number of harmonic terms for seasonality stack type. Note that len(n_harmonics) = len(stack_types). Note that it will only be used if a seasonality stack is used.<br>\n",
       "`n_polynomials`: int, polynomial degree for trend stack. Note that len(n_polynomials) = len(stack_types). Note that it will only be used if a trend stack is used.<br>\n",
       "`stack_types`: List[str], List of stack types. Subset from ['seasonality', 'trend', 'identity'].<br>\n",
       "`n_blocks`: List[int], Number of blocks for each stack. Note that len(n_blocks) = len(stack_types).<br>\n",
       "`mlp_units`: List[List[int]], Structure of hidden layers for each stack type. Each internal list should contain the number of units of each hidden layer. Note that len(n_hidden) = len(stack_types).<br>\n",
       "`dropout_prob_theta`: float, Float between (0, 1). Dropout for N-BEATS basis.<br>\n",
       "`shared_weights`: bool, If True, all blocks within each stack will share parameters. <br>\n",
       "`activation`: str, activation from ['ReLU', 'Softplus', 'Tanh', 'SELU', 'LeakyReLU', 'PReLU', 'Sigmoid'].<br>\n",
       "`loss`: PyTorch module, instantiated train loss class from [losses collection](https://nixtla.github.io/neuralforecast/losses.pytorch.html).<br>\n",
       "`valid_loss`: PyTorch module=`loss`, instantiated valid loss class from [losses collection](https://nixtla.github.io/neuralforecast/losses.pytorch.html).<br>\n",
       "`max_steps`: int=1000, maximum number of training steps.<br>\n",
       "`learning_rate`: float=1e-3, Learning rate between (0, 1).<br>\n",
       "`num_lr_decays`: int=3, Number of learning rate decays, evenly distributed across max_steps.<br>\n",
       "`early_stop_patience_steps`: int=-1, Number of validation iterations before early stopping.<br>\n",
       "`val_check_steps`: int=100, Number of training steps between every validation loss check.<br>\n",
       "`batch_size`: int=32, number of different series in each batch.<br>\n",
       "`valid_batch_size`: int=None, number of different series in each validation and test batch, if None uses batch_size.<br>\n",
       "`windows_batch_size`: int=1024, number of windows to sample in each training batch, default uses all.<br>\n",
       "`inference_windows_batch_size`: int=-1, number of windows to sample in each inference batch, -1 uses all.<br>\n",
       "`start_padding_enabled`: bool=False, if True, the model will pad the time series with zeros at the beginning, by input size.<br>\n",
       "`step_size`: int=1, step size between each window of temporal data.<br>\n",
       "`scaler_type`: str='identity', type of scaler for temporal inputs normalization see [temporal scalers](https://nixtla.github.io/neuralforecast/common.scalers.html).<br>\n",
       "`random_seed`: int, random_seed for pytorch initializer and numpy generators.<br>\n",
       "`num_workers_loader`: int=os.cpu_count(), workers to be used by `TimeSeriesDataLoader`.<br>\n",
       "`drop_last_loader`: bool=False, if True `TimeSeriesDataLoader` drops last non-full batch.<br>\n",
       "`alias`: str, optional,  Custom name of the model.<br>\n",
       "`**trainer_kwargs`: int,  keyword trainer arguments inherited from [PyTorch Lighning's trainer](https://pytorch-lightning.readthedocs.io/en/stable/api/pytorch_lightning.trainer.trainer.Trainer.html?highlight=trainer).<br>\n",
       "\n",
       "**References:**<br>\n",
       "-[Boris N. Oreshkin, Dmitri Carpov, Nicolas Chapados, Yoshua Bengio (2019). \n",
       "\"N-BEATS: Neural basis expansion analysis for interpretable time series forecasting\".](https://arxiv.org/abs/1905.10437)"
      ],
      "text/plain": [
       "---\n",
       "\n",
       "### NBEATS\n",
       "\n",
       ">      NBEATS (h, input_size, n_harmonics:int=2, n_polynomials:int=2,\n",
       ">              stack_types:list=['identity', 'trend', 'seasonality'],\n",
       ">              n_blocks:list=[1, 1, 1], mlp_units:list=[[512, 512], [512, 512],\n",
       ">              [512, 512]], dropout_prob_theta:float=0.0, activation:str='ReLU',\n",
       ">              shared_weights:bool=False, loss=MAE(), valid_loss=None,\n",
       ">              max_steps:int=1000, learning_rate:float=0.001,\n",
       ">              num_lr_decays:int=3, early_stop_patience_steps:int=-1,\n",
       ">              val_check_steps:int=100, batch_size:int=32,\n",
       ">              valid_batch_size:Optional[int]=None, windows_batch_size:int=1024,\n",
       ">              inference_windows_batch_size:int=-1, start_padding_enabled=False,\n",
       ">              step_size:int=1, scaler_type:str='identity', random_seed:int=1,\n",
       ">              num_workers_loader:int=0, drop_last_loader:bool=False,\n",
       ">              **trainer_kwargs)\n",
       "\n",
       "NBEATS\n",
       "\n",
       "The Neural Basis Expansion Analysis for Time Series (NBEATS), is a simple and yet\n",
       "effective architecture, it is built with a deep stack of MLPs with the doubly \n",
       "residual connections. It has a generic and interpretable architecture depending\n",
       "on the blocks it uses. Its interpretable architecture is recommended for scarce\n",
       "data settings, as it regularizes its predictions through projections unto harmonic\n",
       "and trend basis well-suited for most forecasting tasks.\n",
       "\n",
       "**Parameters:**<br>\n",
       "`h`: int, forecast horizon.<br>\n",
       "`input_size`: int, considered autorregresive inputs (lags), y=[1,2,3,4] input_size=2 -> lags=[1,2].<br>\n",
       "`n_harmonics`: int, Number of harmonic terms for seasonality stack type. Note that len(n_harmonics) = len(stack_types). Note that it will only be used if a seasonality stack is used.<br>\n",
       "`n_polynomials`: int, polynomial degree for trend stack. Note that len(n_polynomials) = len(stack_types). Note that it will only be used if a trend stack is used.<br>\n",
       "`stack_types`: List[str], List of stack types. Subset from ['seasonality', 'trend', 'identity'].<br>\n",
       "`n_blocks`: List[int], Number of blocks for each stack. Note that len(n_blocks) = len(stack_types).<br>\n",
       "`mlp_units`: List[List[int]], Structure of hidden layers for each stack type. Each internal list should contain the number of units of each hidden layer. Note that len(n_hidden) = len(stack_types).<br>\n",
       "`dropout_prob_theta`: float, Float between (0, 1). Dropout for N-BEATS basis.<br>\n",
       "`shared_weights`: bool, If True, all blocks within each stack will share parameters. <br>\n",
       "`activation`: str, activation from ['ReLU', 'Softplus', 'Tanh', 'SELU', 'LeakyReLU', 'PReLU', 'Sigmoid'].<br>\n",
       "`loss`: PyTorch module, instantiated train loss class from [losses collection](https://nixtla.github.io/neuralforecast/losses.pytorch.html).<br>\n",
       "`valid_loss`: PyTorch module=`loss`, instantiated valid loss class from [losses collection](https://nixtla.github.io/neuralforecast/losses.pytorch.html).<br>\n",
       "`max_steps`: int=1000, maximum number of training steps.<br>\n",
       "`learning_rate`: float=1e-3, Learning rate between (0, 1).<br>\n",
       "`num_lr_decays`: int=3, Number of learning rate decays, evenly distributed across max_steps.<br>\n",
       "`early_stop_patience_steps`: int=-1, Number of validation iterations before early stopping.<br>\n",
       "`val_check_steps`: int=100, Number of training steps between every validation loss check.<br>\n",
       "`batch_size`: int=32, number of different series in each batch.<br>\n",
       "`valid_batch_size`: int=None, number of different series in each validation and test batch, if None uses batch_size.<br>\n",
       "`windows_batch_size`: int=1024, number of windows to sample in each training batch, default uses all.<br>\n",
       "`inference_windows_batch_size`: int=-1, number of windows to sample in each inference batch, -1 uses all.<br>\n",
       "`start_padding_enabled`: bool=False, if True, the model will pad the time series with zeros at the beginning, by input size.<br>\n",
       "`step_size`: int=1, step size between each window of temporal data.<br>\n",
       "`scaler_type`: str='identity', type of scaler for temporal inputs normalization see [temporal scalers](https://nixtla.github.io/neuralforecast/common.scalers.html).<br>\n",
       "`random_seed`: int, random_seed for pytorch initializer and numpy generators.<br>\n",
       "`num_workers_loader`: int=os.cpu_count(), workers to be used by `TimeSeriesDataLoader`.<br>\n",
       "`drop_last_loader`: bool=False, if True `TimeSeriesDataLoader` drops last non-full batch.<br>\n",
       "`alias`: str, optional,  Custom name of the model.<br>\n",
       "`**trainer_kwargs`: int,  keyword trainer arguments inherited from [PyTorch Lighning's trainer](https://pytorch-lightning.readthedocs.io/en/stable/api/pytorch_lightning.trainer.trainer.Trainer.html?highlight=trainer).<br>\n",
       "\n",
       "**References:**<br>\n",
       "-[Boris N. Oreshkin, Dmitri Carpov, Nicolas Chapados, Yoshua Bengio (2019). \n",
       "\"N-BEATS: Neural basis expansion analysis for interpretable time series forecasting\".](https://arxiv.org/abs/1905.10437)"
      ]
     },
     "execution_count": 8,
     "metadata": {},
     "output_type": "execute_result"
    }
   ],
   "source": [
    "show_doc(NBEATS)"
   ]
  },
  {
   "cell_type": "code",
   "execution_count": 9,
   "id": "f9013b63-f65b-4a92-913c-b696e6e69914",
   "metadata": {},
   "outputs": [
    {
     "data": {
      "text/markdown": [
       "---\n",
       "\n",
       "### NBEATS.fit\n",
       "\n",
       ">      NBEATS.fit (dataset, val_size=0, test_size=0, random_seed=None)\n",
       "\n",
       "Fit.\n",
       "\n",
       "The `fit` method, optimizes the neural network's weights using the\n",
       "initialization parameters (`learning_rate`, `windows_batch_size`, ...)\n",
       "and the `loss` function as defined during the initialization.\n",
       "Within `fit` we use a PyTorch Lightning `Trainer` that\n",
       "inherits the initialization's `self.trainer_kwargs`, to customize\n",
       "its inputs, see [PL's trainer arguments](https://pytorch-lightning.readthedocs.io/en/stable/api/pytorch_lightning.trainer.trainer.Trainer.html?highlight=trainer).\n",
       "\n",
       "The method is designed to be compatible with SKLearn-like classes\n",
       "and in particular to be compatible with the StatsForecast library.\n",
       "\n",
       "By default the `model` is not saving training checkpoints to protect\n",
       "disk memory, to get them change `enable_checkpointing=True` in `__init__`.\n",
       "\n",
       "**Parameters:**<br>\n",
       "`dataset`: NeuralForecast's `TimeSeriesDataset`, see [documentation](https://nixtla.github.io/neuralforecast/tsdataset.html).<br>\n",
       "`val_size`: int, validation size for temporal cross-validation.<br>\n",
       "`random_seed`: int=None, random_seed for pytorch initializer and numpy generators, overwrites model.__init__'s.<br>\n",
       "`test_size`: int, test size for temporal cross-validation.<br>"
      ],
      "text/plain": [
       "---\n",
       "\n",
       "### NBEATS.fit\n",
       "\n",
       ">      NBEATS.fit (dataset, val_size=0, test_size=0, random_seed=None)\n",
       "\n",
       "Fit.\n",
       "\n",
       "The `fit` method, optimizes the neural network's weights using the\n",
       "initialization parameters (`learning_rate`, `windows_batch_size`, ...)\n",
       "and the `loss` function as defined during the initialization.\n",
       "Within `fit` we use a PyTorch Lightning `Trainer` that\n",
       "inherits the initialization's `self.trainer_kwargs`, to customize\n",
       "its inputs, see [PL's trainer arguments](https://pytorch-lightning.readthedocs.io/en/stable/api/pytorch_lightning.trainer.trainer.Trainer.html?highlight=trainer).\n",
       "\n",
       "The method is designed to be compatible with SKLearn-like classes\n",
       "and in particular to be compatible with the StatsForecast library.\n",
       "\n",
       "By default the `model` is not saving training checkpoints to protect\n",
       "disk memory, to get them change `enable_checkpointing=True` in `__init__`.\n",
       "\n",
       "**Parameters:**<br>\n",
       "`dataset`: NeuralForecast's `TimeSeriesDataset`, see [documentation](https://nixtla.github.io/neuralforecast/tsdataset.html).<br>\n",
       "`val_size`: int, validation size for temporal cross-validation.<br>\n",
       "`random_seed`: int=None, random_seed for pytorch initializer and numpy generators, overwrites model.__init__'s.<br>\n",
       "`test_size`: int, test size for temporal cross-validation.<br>"
      ]
     },
     "execution_count": 9,
     "metadata": {},
     "output_type": "execute_result"
    }
   ],
   "source": [
    "show_doc(NBEATS.fit, name='NBEATS.fit')"
   ]
  },
  {
   "cell_type": "code",
   "execution_count": 10,
   "id": "a66184ee-7a71-4598-976c-c79b83089a6f",
   "metadata": {},
   "outputs": [
    {
     "data": {
      "text/markdown": [
       "---\n",
       "\n",
       "### NBEATS.predict\n",
       "\n",
       ">      NBEATS.predict (dataset, test_size=None, step_size=1, random_seed=None,\n",
       ">                      **data_module_kwargs)\n",
       "\n",
       "Predict.\n",
       "\n",
       "Neural network prediction with PL's `Trainer` execution of `predict_step`.\n",
       "\n",
       "**Parameters:**<br>\n",
       "`dataset`: NeuralForecast's `TimeSeriesDataset`, see [documentation](https://nixtla.github.io/neuralforecast/tsdataset.html).<br>\n",
       "`test_size`: int=None, test size for temporal cross-validation.<br>\n",
       "`step_size`: int=1, Step size between each window.<br>\n",
       "`random_seed`: int=None, random_seed for pytorch initializer and numpy generators, overwrites model.__init__'s.<br>\n",
       "`**data_module_kwargs`: PL's TimeSeriesDataModule args, see [documentation](https://pytorch-lightning.readthedocs.io/en/1.6.1/extensions/datamodules.html#using-a-datamodule)."
      ],
      "text/plain": [
       "---\n",
       "\n",
       "### NBEATS.predict\n",
       "\n",
       ">      NBEATS.predict (dataset, test_size=None, step_size=1, random_seed=None,\n",
       ">                      **data_module_kwargs)\n",
       "\n",
       "Predict.\n",
       "\n",
       "Neural network prediction with PL's `Trainer` execution of `predict_step`.\n",
       "\n",
       "**Parameters:**<br>\n",
       "`dataset`: NeuralForecast's `TimeSeriesDataset`, see [documentation](https://nixtla.github.io/neuralforecast/tsdataset.html).<br>\n",
       "`test_size`: int=None, test size for temporal cross-validation.<br>\n",
       "`step_size`: int=1, Step size between each window.<br>\n",
       "`random_seed`: int=None, random_seed for pytorch initializer and numpy generators, overwrites model.__init__'s.<br>\n",
       "`**data_module_kwargs`: PL's TimeSeriesDataModule args, see [documentation](https://pytorch-lightning.readthedocs.io/en/1.6.1/extensions/datamodules.html#using-a-datamodule)."
      ]
     },
     "execution_count": 10,
     "metadata": {},
     "output_type": "execute_result"
    }
   ],
   "source": [
    "show_doc(NBEATS.predict, name='NBEATS.predict')"
   ]
  },
  {
   "cell_type": "code",
   "execution_count": 11,
   "id": "c2bf3e1d-2935-4503-afb6-fe3d6f52622c",
   "metadata": {},
   "outputs": [],
   "source": [
    "#| hide\n",
    "import logging\n",
    "import warnings\n",
    "logging.getLogger(\"pytorch_lightning\").setLevel(logging.ERROR)\n",
    "warnings.filterwarnings(\"ignore\")"
   ]
  },
  {
   "cell_type": "code",
   "execution_count": 12,
   "id": "6bb4c6c6-ef60-47c9-8c90-4002e68410d3",
   "metadata": {},
   "outputs": [
    {
     "name": "stderr",
     "output_type": "stream",
     "text": [
      "Seed set to 1\n",
      "2023-11-02 02:21:01.753880: I tensorflow/core/util/port.cc:111] oneDNN custom operations are on. You may see slightly different numerical results due to floating-point round-off errors from different computation orders. To turn them off, set the environment variable `TF_ENABLE_ONEDNN_OPTS=0`.\n",
      "2023-11-02 02:21:01.788232: I tensorflow/tsl/cuda/cudart_stub.cc:28] Could not find cuda drivers on your machine, GPU will not be used.\n",
      "2023-11-02 02:21:01.929456: E tensorflow/compiler/xla/stream_executor/cuda/cuda_dnn.cc:9342] Unable to register cuDNN factory: Attempting to register factory for plugin cuDNN when one has already been registered\n",
      "2023-11-02 02:21:01.929492: E tensorflow/compiler/xla/stream_executor/cuda/cuda_fft.cc:609] Unable to register cuFFT factory: Attempting to register factory for plugin cuFFT when one has already been registered\n",
      "2023-11-02 02:21:01.930433: E tensorflow/compiler/xla/stream_executor/cuda/cuda_blas.cc:1518] Unable to register cuBLAS factory: Attempting to register factory for plugin cuBLAS when one has already been registered\n",
      "2023-11-02 02:21:02.015786: I tensorflow/core/platform/cpu_feature_guard.cc:182] This TensorFlow binary is optimized to use available CPU instructions in performance-critical operations.\n",
      "To enable the following instructions: AVX2 AVX_VNNI FMA, in other operations, rebuild TensorFlow with the appropriate compiler flags.\n",
      "2023-11-02 02:21:02.979199: W tensorflow/compiler/tf2tensorrt/utils/py_utils.cc:38] TF-TRT Warning: Could not find TensorRT\n"
     ]
    },
    {
     "data": {
      "application/vnd.jupyter.widget-view+json": {
       "model_id": "",
       "version_major": 2,
       "version_minor": 0
      },
      "text/plain": [
       "Sanity Checking: |                                                                                | 0/? [00:00…"
      ]
     },
     "metadata": {},
     "output_type": "display_data"
    },
    {
     "data": {
      "application/vnd.jupyter.widget-view+json": {
       "model_id": "af1ac63a3d77457b8d7e7a6fd59b6d9d",
       "version_major": 2,
       "version_minor": 0
      },
      "text/plain": [
       "Training: |                                                                                       | 0/? [00:00…"
      ]
     },
     "metadata": {},
     "output_type": "display_data"
    },
    {
     "data": {
      "application/vnd.jupyter.widget-view+json": {
       "model_id": "",
       "version_major": 2,
       "version_minor": 0
      },
      "text/plain": [
       "Validation: |                                                                                     | 0/? [00:00…"
      ]
     },
     "metadata": {},
     "output_type": "display_data"
    },
    {
     "data": {
      "application/vnd.jupyter.widget-view+json": {
       "model_id": "bc6b815b11304d7690c522993ca95795",
       "version_major": 2,
       "version_minor": 0
      },
      "text/plain": [
       "Predicting: |                                                                                     | 0/? [00:00…"
      ]
     },
     "metadata": {},
     "output_type": "display_data"
    },
    {
     "data": {
      "text/plain": [
       "<Axes: xlabel='ds'>"
      ]
     },
     "execution_count": 12,
     "metadata": {},
     "output_type": "execute_result"
    },
    {
     "data": {
      "image/png": "[encoded data removed]",
      "text/plain": [
       "<Figure size 640x480 with 1 Axes>"
      ]
     },
     "metadata": {},
     "output_type": "display_data"
    }
   ],
   "source": [
    "#| hide\n",
    "import pandas as pd\n",
    "import matplotlib.pyplot as plt\n",
    "\n",
    "import pytorch_lightning as pl\n",
    "\n",
    "from neuralforecast.utils import AirPassengersDF as Y_df\n",
    "from neuralforecast.tsdataset import TimeSeriesDataset, TimeSeriesLoader\n",
    "\n",
    "Y_train_df = Y_df[Y_df.ds<Y_df['ds'].values[-12]] # 132 train\n",
    "Y_test_df = Y_df[Y_df.ds>=Y_df['ds'].values[-12]]   # 12 test\n",
    "\n",
    "dataset, *_ = TimeSeriesDataset.from_df(df = Y_train_df)\n",
    "nbeats = NBEATS(h=12, input_size=24, windows_batch_size=None, \n",
    "                stack_types=['identity', 'trend', 'seasonality'], max_steps=1)\n",
    "nbeats.fit(dataset=dataset)\n",
    "y_hat = nbeats.predict(dataset=dataset)\n",
    "Y_test_df['N-BEATS'] = y_hat\n",
    "\n",
    "pd.concat([Y_train_df, Y_test_df]).drop('unique_id', axis=1).set_index('ds').plot()"
   ]
  },
  {
   "cell_type": "code",
   "execution_count": 13,
   "id": "db94b63e-d82c-423f-8f75-184ae285904d",
   "metadata": {},
   "outputs": [
    {
     "data": {
      "application/vnd.jupyter.widget-view+json": {
       "model_id": "1bf504d1e7b9466aa16652f25f7638ca",
       "version_major": 2,
       "version_minor": 0
      },
      "text/plain": [
       "Predicting: |                                                                                     | 0/? [00:00…"
      ]
     },
     "metadata": {},
     "output_type": "display_data"
    }
   ],
   "source": [
    "#| hide\n",
    "#test we recover the same forecast\n",
    "y_hat2 = nbeats.predict(dataset=dataset)\n",
    "test_eq(y_hat, y_hat2)"
   ]
  },
  {
   "cell_type": "code",
   "execution_count": 14,
   "id": "46090447-8e67-4f08-8a3d-9547183983f9",
   "metadata": {},
   "outputs": [
    {
     "name": "stderr",
     "output_type": "stream",
     "text": [
      "Seed set to 1\n"
     ]
    },
    {
     "data": {
      "application/vnd.jupyter.widget-view+json": {
       "model_id": "",
       "version_major": 2,
       "version_minor": 0
      },
      "text/plain": [
       "Sanity Checking: |                                                                                | 0/? [00:00…"
      ]
     },
     "metadata": {},
     "output_type": "display_data"
    },
    {
     "data": {
      "application/vnd.jupyter.widget-view+json": {
       "model_id": "194f4662da5249588cbe47803876e523",
       "version_major": 2,
       "version_minor": 0
      },
      "text/plain": [
       "Training: |                                                                                       | 0/? [00:00…"
      ]
     },
     "metadata": {},
     "output_type": "display_data"
    },
    {
     "data": {
      "application/vnd.jupyter.widget-view+json": {
       "model_id": "",
       "version_major": 2,
       "version_minor": 0
      },
      "text/plain": [
       "Validation: |                                                                                     | 0/? [00:00…"
      ]
     },
     "metadata": {},
     "output_type": "display_data"
    },
    {
     "data": {
      "application/vnd.jupyter.widget-view+json": {
       "model_id": "cb97af6a6b7145608b9f0b6e8cc400dd",
       "version_major": 2,
       "version_minor": 0
      },
      "text/plain": [
       "Predicting: |                                                                                     | 0/? [00:00…"
      ]
     },
     "metadata": {},
     "output_type": "display_data"
    },
    {
     "data": {
      "application/vnd.jupyter.widget-view+json": {
       "model_id": "3619ea6c3e564fc49586d78662ca8931",
       "version_major": 2,
       "version_minor": 0
      },
      "text/plain": [
       "Predicting: |                                                                                     | 0/? [00:00…"
      ]
     },
     "metadata": {},
     "output_type": "display_data"
    }
   ],
   "source": [
    "#| hide\n",
    "#test no leakage with test_size\n",
    "dataset, *_ = TimeSeriesDataset.from_df(Y_df)\n",
    "model = NBEATS(input_size=24, h=12, \n",
    "               windows_batch_size=None, max_steps=1)\n",
    "model.fit(dataset=dataset, test_size=12)\n",
    "y_hat_test = model.predict(dataset=dataset, step_size=1)\n",
    "np.testing.assert_almost_equal(y_hat, y_hat_test, decimal=4)\n",
    "#test we recover the same forecast\n",
    "y_hat_test2 = model.predict(dataset=dataset, step_size=1)\n",
    "test_eq(y_hat_test, y_hat_test2)"
   ]
  },
  {
   "cell_type": "code",
   "execution_count": 15,
   "id": "0298fce5-eb13-40dc-9964-b026fd2a8928",
   "metadata": {},
   "outputs": [
    {
     "name": "stderr",
     "output_type": "stream",
     "text": [
      "Seed set to 1\n"
     ]
    },
    {
     "data": {
      "application/vnd.jupyter.widget-view+json": {
       "model_id": "",
       "version_major": 2,
       "version_minor": 0
      },
      "text/plain": [
       "Sanity Checking: |                                                                                | 0/? [00:00…"
      ]
     },
     "metadata": {},
     "output_type": "display_data"
    },
    {
     "data": {
      "application/vnd.jupyter.widget-view+json": {
       "model_id": "8e65d7416b514759b5d810763f53b2e0",
       "version_major": 2,
       "version_minor": 0
      },
      "text/plain": [
       "Training: |                                                                                       | 0/? [00:00…"
      ]
     },
     "metadata": {},
     "output_type": "display_data"
    },
    {
     "data": {
      "application/vnd.jupyter.widget-view+json": {
       "model_id": "",
       "version_major": 2,
       "version_minor": 0
      },
      "text/plain": [
       "Validation: |                                                                                     | 0/? [00:00…"
      ]
     },
     "metadata": {},
     "output_type": "display_data"
    },
    {
     "data": {
      "application/vnd.jupyter.widget-view+json": {
       "model_id": "53a24de5ea784435a40fd84a765a14a9",
       "version_major": 2,
       "version_minor": 0
      },
      "text/plain": [
       "Predicting: |                                                                                     | 0/? [00:00…"
      ]
     },
     "metadata": {},
     "output_type": "display_data"
    },
    {
     "data": {
      "text/plain": [
       "<Axes: xlabel='ds'>"
      ]
     },
     "execution_count": 15,
     "metadata": {},
     "output_type": "execute_result"
    },
    {
     "data": {
      "image/png": "[encoded data removed]",
      "text/plain": [
       "<Figure size 640x480 with 1 Axes>"
      ]
     },
     "metadata": {},
     "output_type": "display_data"
    }
   ],
   "source": [
    "#| hide\n",
    "# test validation step\n",
    "dataset, *_ = TimeSeriesDataset.from_df(Y_train_df)\n",
    "model = NBEATS(input_size=24, h=12, windows_batch_size=None, max_steps=1)\n",
    "model.fit(dataset=dataset, val_size=12)\n",
    "y_hat_w_val = model.predict(dataset=dataset)\n",
    "Y_test_df['N-BEATS'] = y_hat_w_val\n",
    "\n",
    "pd.concat([Y_train_df, Y_test_df]).drop('unique_id', axis=1).set_index('ds').plot()"
   ]
  },
  {
   "cell_type": "code",
   "execution_count": 16,
   "id": "6f987ed0-ee6e-4f66-bd8f-96acc6fbd56c",
   "metadata": {},
   "outputs": [
    {
     "name": "stderr",
     "output_type": "stream",
     "text": [
      "Seed set to 1\n"
     ]
    },
    {
     "data": {
      "application/vnd.jupyter.widget-view+json": {
       "model_id": "",
       "version_major": 2,
       "version_minor": 0
      },
      "text/plain": [
       "Sanity Checking: |                                                                                | 0/? [00:00…"
      ]
     },
     "metadata": {},
     "output_type": "display_data"
    },
    {
     "data": {
      "application/vnd.jupyter.widget-view+json": {
       "model_id": "e8c9cb6bcfe0435987fe0af41741b7e1",
       "version_major": 2,
       "version_minor": 0
      },
      "text/plain": [
       "Training: |                                                                                       | 0/? [00:00…"
      ]
     },
     "metadata": {},
     "output_type": "display_data"
    },
    {
     "data": {
      "application/vnd.jupyter.widget-view+json": {
       "model_id": "",
       "version_major": 2,
       "version_minor": 0
      },
      "text/plain": [
       "Validation: |                                                                                     | 0/? [00:00…"
      ]
     },
     "metadata": {},
     "output_type": "display_data"
    },
    {
     "data": {
      "application/vnd.jupyter.widget-view+json": {
       "model_id": "9e36d5daf940446491ca6741e23635fa",
       "version_major": 2,
       "version_minor": 0
      },
      "text/plain": [
       "Predicting: |                                                                                     | 0/? [00:00…"
      ]
     },
     "metadata": {},
     "output_type": "display_data"
    },
    {
     "name": "stderr",
     "output_type": "stream",
     "text": [
      "Seed set to 1\n"
     ]
    },
    {
     "data": {
      "application/vnd.jupyter.widget-view+json": {
       "model_id": "",
       "version_major": 2,
       "version_minor": 0
      },
      "text/plain": [
       "Sanity Checking: |                                                                                | 0/? [00:00…"
      ]
     },
     "metadata": {},
     "output_type": "display_data"
    },
    {
     "data": {
      "application/vnd.jupyter.widget-view+json": {
       "model_id": "6e4f90ed16954097999d54521e98d21a",
       "version_major": 2,
       "version_minor": 0
      },
      "text/plain": [
       "Training: |                                                                                       | 0/? [00:00…"
      ]
     },
     "metadata": {},
     "output_type": "display_data"
    },
    {
     "data": {
      "application/vnd.jupyter.widget-view+json": {
       "model_id": "",
       "version_major": 2,
       "version_minor": 0
      },
      "text/plain": [
       "Validation: |                                                                                     | 0/? [00:00…"
      ]
     },
     "metadata": {},
     "output_type": "display_data"
    },
    {
     "data": {
      "application/vnd.jupyter.widget-view+json": {
       "model_id": "b432cb14d4164752929dc8729fb317fc",
       "version_major": 2,
       "version_minor": 0
      },
      "text/plain": [
       "Predicting: |                                                                                     | 0/? [00:00…"
      ]
     },
     "metadata": {},
     "output_type": "display_data"
    }
   ],
   "source": [
    "#| hide\n",
    "# test no leakage with test_size and val_size\n",
    "dataset, *_ = TimeSeriesDataset.from_df(Y_train_df)\n",
    "model = NBEATS(input_size=24, h=12, windows_batch_size=None, max_steps=1)\n",
    "model.fit(dataset=dataset, val_size=12)\n",
    "y_hat_w_val = model.predict(dataset=dataset)\n",
    "\n",
    "dataset, *_ = TimeSeriesDataset.from_df(Y_df)\n",
    "model = NBEATS(input_size=24, h=12, windows_batch_size=None, max_steps=1)\n",
    "model.fit(dataset=dataset, val_size=12, test_size=12)\n",
    "\n",
    "y_hat_test_w_val = model.predict(dataset=dataset, step_size=1)\n",
    "\n",
    "np.testing.assert_almost_equal(y_hat_test_w_val, y_hat_w_val, decimal=4)"
   ]
  },
  {
   "cell_type": "code",
   "execution_count": 17,
   "id": "ba4e41b3",
   "metadata": {},
   "outputs": [
    {
     "data": {
      "application/vnd.jupyter.widget-view+json": {
       "model_id": "76e34b031f304da89ab7444d233b0538",
       "version_major": 2,
       "version_minor": 0
      },
      "text/plain": [
       "Predicting: |                                                                                     | 0/? [00:00…"
      ]
     },
     "metadata": {},
     "output_type": "display_data"
    },
    {
     "data": {
      "text/plain": [
       "Text(0.5, 0, 'Prediction τ ∈ {t+1,..., t+H}')"
      ]
     },
     "execution_count": 17,
     "metadata": {},
     "output_type": "execute_result"
    },
    {
     "data": {
      "image/png": "[encoded data removed]",
      "text/plain": [
       "<Figure size 1000x1500 with 5 Axes>"
      ]
     },
     "metadata": {},
     "output_type": "display_data"
    }
   ],
   "source": [
    "#| hide\n",
    "# qualitative decomposition evaluation\n",
    "y_hat = model.decompose(dataset=dataset)\n",
    "\n",
    "fig, ax = plt.subplots(5, 1, figsize=(10, 15))\n",
    "\n",
    "ax[0].plot(Y_test_df['y'].values, label='True', color=\"#9C9DB2\", linewidth=4)\n",
    "ax[0].plot(y_hat.sum(axis=1).flatten(), label='Forecast', color=\"#7B3841\")\n",
    "ax[0].grid()\n",
    "ax[0].legend(prop={'size': 20})\n",
    "for label in (ax[0].get_xticklabels() + ax[0].get_yticklabels()):\n",
    "    label.set_fontsize(18)\n",
    "ax[0].set_ylabel('y', fontsize=20)\n",
    "\n",
    "ax[1].plot(y_hat[0,0], label='level', color=\"#7B3841\")\n",
    "ax[1].grid()\n",
    "ax[1].set_ylabel('Level', fontsize=20)\n",
    "\n",
    "ax[2].plot(y_hat[0,1], label='stack1', color=\"#7B3841\")\n",
    "ax[2].grid()\n",
    "ax[2].set_ylabel('Identity', fontsize=20)\n",
    "\n",
    "ax[3].plot(y_hat[0,2], label='stack2', color=\"#D9AE9E\")\n",
    "ax[3].grid()\n",
    "ax[3].set_ylabel('Trend', fontsize=20)\n",
    "\n",
    "ax[4].plot(y_hat[0,3], label='stack3', color=\"#D9AE9E\")\n",
    "ax[4].grid()\n",
    "ax[4].set_ylabel('Seasonality', fontsize=20)\n",
    "\n",
    "ax[4].set_xlabel('Prediction \\u03C4 \\u2208 {t+1,..., t+H}', fontsize=20)"
   ]
  },
  {
   "cell_type": "markdown",
   "id": "cdc17eef",
   "metadata": {},
   "source": [
    "## Usage Example"
   ]
  },
  {
   "cell_type": "code",
   "execution_count": 18,
   "id": "3017c43a",
   "metadata": {},
   "outputs": [
    {
     "name": "stderr",
     "output_type": "stream",
     "text": [
      "Seed set to 1\n"
     ]
    },
    {
     "data": {
      "application/vnd.jupyter.widget-view+json": {
       "model_id": "",
       "version_major": 2,
       "version_minor": 0
      },
      "text/plain": [
       "Sanity Checking: |                                                                                | 0/? [00:00…"
      ]
     },
     "metadata": {},
     "output_type": "display_data"
    },
    {
     "data": {
      "application/vnd.jupyter.widget-view+json": {
       "model_id": "2a58abf5ec7245a080583565e155599e",
       "version_major": 2,
       "version_minor": 0
      },
      "text/plain": [
       "Training: |                                                                                       | 0/? [00:00…"
      ]
     },
     "metadata": {},
     "output_type": "display_data"
    },
    {
     "data": {
      "application/vnd.jupyter.widget-view+json": {
       "model_id": "",
       "version_major": 2,
       "version_minor": 0
      },
      "text/plain": [
       "Validation: |                                                                                     | 0/? [00:00…"
      ]
     },
     "metadata": {},
     "output_type": "display_data"
    },
    {
     "data": {
      "application/vnd.jupyter.widget-view+json": {
       "model_id": "",
       "version_major": 2,
       "version_minor": 0
      },
      "text/plain": [
       "Validation: |                                                                                     | 0/? [00:00…"
      ]
     },
     "metadata": {},
     "output_type": "display_data"
    },
    {
     "data": {
      "application/vnd.jupyter.widget-view+json": {
       "model_id": "",
       "version_major": 2,
       "version_minor": 0
      },
      "text/plain": [
       "Validation: |                                                                                     | 0/? [00:00…"
      ]
     },
     "metadata": {},
     "output_type": "display_data"
    },
    {
     "data": {
      "application/vnd.jupyter.widget-view+json": {
       "model_id": "",
       "version_major": 2,
       "version_minor": 0
      },
      "text/plain": [
       "Validation: |                                                                                     | 0/? [00:00…"
      ]
     },
     "metadata": {},
     "output_type": "display_data"
    },
    {
     "data": {
      "application/vnd.jupyter.widget-view+json": {
       "model_id": "",
       "version_major": 2,
       "version_minor": 0
      },
      "text/plain": [
       "Validation: |                                                                                     | 0/? [00:00…"
      ]
     },
     "metadata": {},
     "output_type": "display_data"
    },
    {
     "data": {
      "application/vnd.jupyter.widget-view+json": {
       "model_id": "",
       "version_major": 2,
       "version_minor": 0
      },
      "text/plain": [
       "Validation: |                                                                                     | 0/? [00:00…"
      ]
     },
     "metadata": {},
     "output_type": "display_data"
    },
    {
     "data": {
      "application/vnd.jupyter.widget-view+json": {
       "model_id": "",
       "version_major": 2,
       "version_minor": 0
      },
      "text/plain": [
       "Validation: |                                                                                     | 0/? [00:00…"
      ]
     },
     "metadata": {},
     "output_type": "display_data"
    },
    {
     "data": {
      "application/vnd.jupyter.widget-view+json": {
       "model_id": "06fe8d80adfd447db2a50a604353d7d2",
       "version_major": 2,
       "version_minor": 0
      },
      "text/plain": [
       "Predicting: |                                                                                     | 0/? [00:00…"
      ]
     },
     "metadata": {},
     "output_type": "display_data"
    },
    {
     "data": {
      "text/plain": [
       "[]"
      ]
     },
     "execution_count": 18,
     "metadata": {},
     "output_type": "execute_result"
    },
    {
     "data": {
      "image/png": "[encoded data removed]",
      "text/plain": [
       "<Figure size 640x480 with 1 Axes>"
      ]
     },
     "metadata": {},
     "output_type": "display_data"
    }
   ],
   "source": [
    "#| eval: false\n",
    "import numpy as np\n",
    "import pandas as pd\n",
    "import pytorch_lightning as pl\n",
    "import matplotlib.pyplot as plt\n",
    "\n",
    "from neuralforecast import NeuralForecast\n",
    "from neuralforecast.models import NBEATS\n",
    "from neuralforecast.losses.pytorch import MQLoss, DistributionLoss\n",
    "from neuralforecast.tsdataset import TimeSeriesDataset\n",
    "from neuralforecast.utils import AirPassengers, AirPassengersPanel, AirPassengersStatic\n",
    "\n",
    "Y_train_df = AirPassengersPanel[AirPassengersPanel.ds<AirPassengersPanel['ds'].values[-12]] # 132 train\n",
    "Y_test_df = AirPassengersPanel[AirPassengersPanel.ds>=AirPassengersPanel['ds'].values[-12]].reset_index(drop=True) # 12 test\n",
    "\n",
    "model = NBEATS(h=12, input_size=24,\n",
    "               loss=DistributionLoss(distribution='Poisson', level=[80, 90]),\n",
    "               stack_types = ['identity', 'trend', 'seasonality'],\n",
    "               max_steps=100,\n",
    "               val_check_steps=10,\n",
    "               early_stop_patience_steps=2)\n",
    "\n",
    "fcst = NeuralForecast(\n",
    "    models=[model],\n",
    "    freq='M'\n",
    ")\n",
    "fcst.fit(df=Y_train_df, static_df=AirPassengersStatic, val_size=12)\n",
    "forecasts = fcst.predict(futr_df=Y_test_df)\n",
    "\n",
    "# Plot quantile predictions\n",
    "Y_hat_df = forecasts.reset_index(drop=False).drop(columns=['unique_id','ds'])\n",
    "plot_df = pd.concat([Y_test_df, Y_hat_df], axis=1)\n",
    "plot_df = pd.concat([Y_train_df, plot_df])\n",
    "\n",
    "plot_df = plot_df[plot_df.unique_id=='Airline1'].drop('unique_id', axis=1)\n",
    "plt.plot(plot_df['ds'], plot_df['y'], c='black', label='True')\n",
    "plt.plot(plot_df['ds'], plot_df['NBEATS-median'], c='blue', label='median')\n",
    "plt.fill_between(x=plot_df['ds'][-12:], \n",
    "                 y1=plot_df['NBEATS-lo-90'][-12:].values, \n",
    "                 y2=plot_df['NBEATS-hi-90'][-12:].values,\n",
    "                 alpha=0.4, label='level 90')\n",
    "plt.grid()\n",
    "plt.legend()\n",
    "plt.plot()"
   ]
  },
  {
   "cell_type": "code",
   "execution_count": 19,
   "id": "d7cbd9ad",
   "metadata": {},
   "outputs": [
    {
     "name": "stdout",
     "output_type": "stream",
     "text": [
      "MAE:  24.979166666666668\n",
      "MSE:  842.46875\n"
     ]
    }
   ],
   "source": [
    "from neuralforecast.losses.numpy import mae, mse\n",
    "\n",
    "y_true = Y_test_df.y.values\n",
    "y_hat = Y_hat_df['NBEATS-median'].values\n",
    "\n",
    "\n",
    "print('MAE: ', mae(y_hat, y_true))\n",
    "print('MSE: ', mse(y_hat, y_true))"
   ]
  },
  {
   "cell_type": "markdown",
   "id": "e2fe9a73-31fb-436c-9969-602701121259",
   "metadata": {},
   "source": [
    "### Exchange rate "
   ]
  },
  {
   "cell_type": "code",
   "execution_count": 9,
   "id": "3e373b88-e81e-460e-8d49-d8ba46c18444",
   "metadata": {},
   "outputs": [
    {
     "data": {
      "text/html": [
       "<div>\n",
       "<style scoped>\n",
       "    .dataframe tbody tr th:only-of-type {\n",
       "        vertical-align: middle;\n",
       "    }\n",
       "\n",
       "    .dataframe tbody tr th {\n",
       "        vertical-align: top;\n",
       "    }\n",
       "\n",
       "    .dataframe thead th {\n",
       "        text-align: right;\n",
       "    }\n",
       "</style>\n",
       "<table border=\"1\" class=\"dataframe\">\n",
       "  <thead>\n",
       "    <tr style=\"text-align: right;\">\n",
       "      <th></th>\n",
       "      <th>unique_id</th>\n",
       "      <th>ds</th>\n",
       "      <th>y</th>\n",
       "    </tr>\n",
       "  </thead>\n",
       "  <tbody>\n",
       "    <tr>\n",
       "      <th>0</th>\n",
       "      <td>0</td>\n",
       "      <td>1990-01-01</td>\n",
       "      <td>0.606785</td>\n",
       "    </tr>\n",
       "    <tr>\n",
       "      <th>1</th>\n",
       "      <td>0</td>\n",
       "      <td>1990-01-02</td>\n",
       "      <td>0.570900</td>\n",
       "    </tr>\n",
       "    <tr>\n",
       "      <th>7588</th>\n",
       "      <td>1</td>\n",
       "      <td>1990-01-01</td>\n",
       "      <td>-0.361671</td>\n",
       "    </tr>\n",
       "    <tr>\n",
       "      <th>7589</th>\n",
       "      <td>1</td>\n",
       "      <td>1990-01-02</td>\n",
       "      <td>-0.367639</td>\n",
       "    </tr>\n",
       "    <tr>\n",
       "      <th>15176</th>\n",
       "      <td>2</td>\n",
       "      <td>1990-01-01</td>\n",
       "      <td>0.735367</td>\n",
       "    </tr>\n",
       "    <tr>\n",
       "      <th>15177</th>\n",
       "      <td>2</td>\n",
       "      <td>1990-01-02</td>\n",
       "      <td>0.729629</td>\n",
       "    </tr>\n",
       "    <tr>\n",
       "      <th>22764</th>\n",
       "      <td>3</td>\n",
       "      <td>1990-01-01</td>\n",
       "      <td>-1.164373</td>\n",
       "    </tr>\n",
       "    <tr>\n",
       "      <th>22765</th>\n",
       "      <td>3</td>\n",
       "      <td>1990-01-02</td>\n",
       "      <td>-1.170907</td>\n",
       "    </tr>\n",
       "    <tr>\n",
       "      <th>30352</th>\n",
       "      <td>4</td>\n",
       "      <td>1990-01-01</td>\n",
       "      <td>2.851890</td>\n",
       "    </tr>\n",
       "    <tr>\n",
       "      <th>30353</th>\n",
       "      <td>4</td>\n",
       "      <td>1990-01-02</td>\n",
       "      <td>2.851890</td>\n",
       "    </tr>\n",
       "    <tr>\n",
       "      <th>37940</th>\n",
       "      <td>5</td>\n",
       "      <td>1990-01-01</td>\n",
       "      <td>-1.861369</td>\n",
       "    </tr>\n",
       "    <tr>\n",
       "      <th>37941</th>\n",
       "      <td>5</td>\n",
       "      <td>1990-01-02</td>\n",
       "      <td>-1.838665</td>\n",
       "    </tr>\n",
       "    <tr>\n",
       "      <th>45528</th>\n",
       "      <td>6</td>\n",
       "      <td>1990-01-01</td>\n",
       "      <td>-1.820047</td>\n",
       "    </tr>\n",
       "    <tr>\n",
       "      <th>45529</th>\n",
       "      <td>6</td>\n",
       "      <td>1990-01-02</td>\n",
       "      <td>-1.847258</td>\n",
       "    </tr>\n",
       "    <tr>\n",
       "      <th>53116</th>\n",
       "      <td>OT</td>\n",
       "      <td>1990-01-01</td>\n",
       "      <td>-0.124081</td>\n",
       "    </tr>\n",
       "    <tr>\n",
       "      <th>53117</th>\n",
       "      <td>OT</td>\n",
       "      <td>1990-01-02</td>\n",
       "      <td>-0.113588</td>\n",
       "    </tr>\n",
       "  </tbody>\n",
       "</table>\n",
       "</div>"
      ],
      "text/plain": [
       "      unique_id         ds         y\n",
       "0             0 1990-01-01  0.606785\n",
       "1             0 1990-01-02  0.570900\n",
       "7588          1 1990-01-01 -0.361671\n",
       "7589          1 1990-01-02 -0.367639\n",
       "15176         2 1990-01-01  0.735367\n",
       "15177         2 1990-01-02  0.729629\n",
       "22764         3 1990-01-01 -1.164373\n",
       "22765         3 1990-01-02 -1.170907\n",
       "30352         4 1990-01-01  2.851890\n",
       "30353         4 1990-01-02  2.851890\n",
       "37940         5 1990-01-01 -1.861369\n",
       "37941         5 1990-01-02 -1.838665\n",
       "45528         6 1990-01-01 -1.820047\n",
       "45529         6 1990-01-02 -1.847258\n",
       "53116        OT 1990-01-01 -0.124081\n",
       "53117        OT 1990-01-02 -0.113588"
      ]
     },
     "execution_count": 9,
     "metadata": {},
     "output_type": "execute_result"
    }
   ],
   "source": [
    "import pandas as pd\n",
    "from neuralforecast.core import NeuralForecast \n",
    "import numpy as np\n",
    "import pytorch_lightning as pl\n",
    "import matplotlib.pyplot as plt\n",
    "\n",
    "from neuralforecast.models import NBEATS\n",
    "from neuralforecast.losses.pytorch import MQLoss, DistributionLoss\n",
    "\n",
    "Y_df = pd.read_csv(\"raw_data/df_Exchange.csv\")\n",
    "\n",
    "Y_df['ds'] = pd.to_datetime(Y_df['ds'])\n",
    "\n",
    "# For this excercise we are going to take 20% of the DataSet\n",
    "n_time = len(Y_df.ds.unique())\n",
    "val_size = int(.1 * n_time)\n",
    "test_size = int(.2 * n_time)\n",
    "\n",
    "Y_df.groupby('unique_id').head(2)"
   ]
  },
  {
   "cell_type": "code",
   "execution_count": 10,
   "id": "38fccbba-9bc2-43ba-bf4d-06351a22e24d",
   "metadata": {},
   "outputs": [
    {
     "name": "stderr",
     "output_type": "stream",
     "text": [
      "Seed set to 1\n"
     ]
    }
   ],
   "source": [
    "horizon = 96\n",
    "\n",
    "model = NBEATS(h=horizon, input_size=5*horizon,\n",
    "               stack_types = ['identity', 'trend', 'seasonality'],\n",
    "               batch_size = 8,\n",
    "               windows_batch_size = 256,\n",
    "               max_steps = 100)\n",
    "\n"
   ]
  },
  {
   "cell_type": "code",
   "execution_count": 11,
   "id": "e33fc2e5-57ff-4aa4-97a5-f3e5ee24c71a",
   "metadata": {},
   "outputs": [
    {
     "name": "stderr",
     "output_type": "stream",
     "text": [
      "2023-11-04 11:18:19.548041: I tensorflow/core/util/port.cc:111] oneDNN custom operations are on. You may see slightly different numerical results due to floating-point round-off errors from different computation orders. To turn them off, set the environment variable `TF_ENABLE_ONEDNN_OPTS=0`.\n",
      "2023-11-04 11:18:19.690180: I tensorflow/tsl/cuda/cudart_stub.cc:28] Could not find cuda drivers on your machine, GPU will not be used.\n",
      "2023-11-04 11:18:20.297584: E tensorflow/compiler/xla/stream_executor/cuda/cuda_dnn.cc:9342] Unable to register cuDNN factory: Attempting to register factory for plugin cuDNN when one has already been registered\n",
      "2023-11-04 11:18:20.297645: E tensorflow/compiler/xla/stream_executor/cuda/cuda_fft.cc:609] Unable to register cuFFT factory: Attempting to register factory for plugin cuFFT when one has already been registered\n",
      "2023-11-04 11:18:20.303500: E tensorflow/compiler/xla/stream_executor/cuda/cuda_blas.cc:1518] Unable to register cuBLAS factory: Attempting to register factory for plugin cuBLAS when one has already been registered\n",
      "2023-11-04 11:18:20.624025: I tensorflow/core/platform/cpu_feature_guard.cc:182] This TensorFlow binary is optimized to use available CPU instructions in performance-critical operations.\n",
      "To enable the following instructions: AVX2 AVX_VNNI FMA, in other operations, rebuild TensorFlow with the appropriate compiler flags.\n",
      "2023-11-04 11:18:22.910326: W tensorflow/compiler/tf2tensorrt/utils/py_utils.cc:38] TF-TRT Warning: Could not find TensorRT\n"
     ]
    },
    {
     "data": {
      "application/vnd.jupyter.widget-view+json": {
       "model_id": "",
       "version_major": 2,
       "version_minor": 0
      },
      "text/plain": [
       "Sanity Checking: |                                                                                | 0/? [00:00…"
      ]
     },
     "metadata": {},
     "output_type": "display_data"
    },
    {
     "data": {
      "application/vnd.jupyter.widget-view+json": {
       "model_id": "af44588a56744d2f9b0ec85a443ea65a",
       "version_major": 2,
       "version_minor": 0
      },
      "text/plain": [
       "Training: |                                                                                       | 0/? [00:00…"
      ]
     },
     "metadata": {},
     "output_type": "display_data"
    },
    {
     "data": {
      "application/vnd.jupyter.widget-view+json": {
       "model_id": "",
       "version_major": 2,
       "version_minor": 0
      },
      "text/plain": [
       "Validation: |                                                                                     | 0/? [00:00…"
      ]
     },
     "metadata": {},
     "output_type": "display_data"
    },
    {
     "data": {
      "application/vnd.jupyter.widget-view+json": {
       "model_id": "66eaaf447aba4611ba30bc8a1a7464e4",
       "version_major": 2,
       "version_minor": 0
      },
      "text/plain": [
       "Predicting: |                                                                                     | 0/? [00:00…"
      ]
     },
     "metadata": {},
     "output_type": "display_data"
    }
   ],
   "source": [
    "nf = NeuralForecast(\n",
    "    models=[model],\n",
    "    freq='D')\n",
    "\n",
    "Y_hat_df = nf.cross_validation(df=Y_df, val_size=val_size,\n",
    "                               test_size=test_size, n_windows=None)"
   ]
  },
  {
   "cell_type": "code",
   "execution_count": 12,
   "id": "0844a4db-3650-4948-9740-eb4fb38d82c2",
   "metadata": {},
   "outputs": [],
   "source": [
    "Y_hat_df.to_csv('results/Exchange_rate/NBEATS.csv')"
   ]
  },
  {
   "cell_type": "code",
   "execution_count": 13,
   "id": "395d8635-3312-41e3-b789-56f4f0253dda",
   "metadata": {},
   "outputs": [
    {
     "name": "stdout",
     "output_type": "stream",
     "text": [
      "MAE:  0.20772644794136158\n",
      "MSE:  0.08869165061559935\n"
     ]
    }
   ],
   "source": [
    "from neuralforecast.losses.numpy import mae, mse\n",
    "\n",
    "print('MAE: ', mae(Y_hat_df['y'], Y_hat_df['NBEATS']))\n",
    "print('MSE: ', mse(Y_hat_df['y'], Y_hat_df['NBEATS']))"
   ]
  },
  {
   "cell_type": "markdown",
   "id": "1127053c-cf19-4884-abcb-6ae2cebf060f",
   "metadata": {},
   "source": [
    "### Ettm2"
   ]
  },
  {
   "cell_type": "code",
   "execution_count": 10,
   "id": "7c79d36b-b94c-48d1-8db7-827a6ffd069e",
   "metadata": {
    "scrolled": true
   },
   "outputs": [
    {
     "data": {
      "text/html": [
       "<div>\n",
       "<style scoped>\n",
       "    .dataframe tbody tr th:only-of-type {\n",
       "        vertical-align: middle;\n",
       "    }\n",
       "\n",
       "    .dataframe tbody tr th {\n",
       "        vertical-align: top;\n",
       "    }\n",
       "\n",
       "    .dataframe thead th {\n",
       "        text-align: right;\n",
       "    }\n",
       "</style>\n",
       "<table border=\"1\" class=\"dataframe\">\n",
       "  <thead>\n",
       "    <tr style=\"text-align: right;\">\n",
       "      <th></th>\n",
       "      <th>unique_id</th>\n",
       "      <th>ds</th>\n",
       "      <th>y</th>\n",
       "    </tr>\n",
       "  </thead>\n",
       "  <tbody>\n",
       "    <tr>\n",
       "      <th>0</th>\n",
       "      <td>HUFL</td>\n",
       "      <td>2016-07-01 00:00:00</td>\n",
       "      <td>-0.041413</td>\n",
       "    </tr>\n",
       "    <tr>\n",
       "      <th>1</th>\n",
       "      <td>HUFL</td>\n",
       "      <td>2016-07-01 00:15:00</td>\n",
       "      <td>-0.185467</td>\n",
       "    </tr>\n",
       "    <tr>\n",
       "      <th>57600</th>\n",
       "      <td>HULL</td>\n",
       "      <td>2016-07-01 00:00:00</td>\n",
       "      <td>0.040104</td>\n",
       "    </tr>\n",
       "    <tr>\n",
       "      <th>57601</th>\n",
       "      <td>HULL</td>\n",
       "      <td>2016-07-01 00:15:00</td>\n",
       "      <td>-0.214450</td>\n",
       "    </tr>\n",
       "    <tr>\n",
       "      <th>115200</th>\n",
       "      <td>LUFL</td>\n",
       "      <td>2016-07-01 00:00:00</td>\n",
       "      <td>0.695804</td>\n",
       "    </tr>\n",
       "    <tr>\n",
       "      <th>115201</th>\n",
       "      <td>LUFL</td>\n",
       "      <td>2016-07-01 00:15:00</td>\n",
       "      <td>0.434685</td>\n",
       "    </tr>\n",
       "    <tr>\n",
       "      <th>172800</th>\n",
       "      <td>LULL</td>\n",
       "      <td>2016-07-01 00:00:00</td>\n",
       "      <td>0.434430</td>\n",
       "    </tr>\n",
       "    <tr>\n",
       "      <th>172801</th>\n",
       "      <td>LULL</td>\n",
       "      <td>2016-07-01 00:15:00</td>\n",
       "      <td>0.428168</td>\n",
       "    </tr>\n",
       "    <tr>\n",
       "      <th>230400</th>\n",
       "      <td>MUFL</td>\n",
       "      <td>2016-07-01 00:00:00</td>\n",
       "      <td>-0.599211</td>\n",
       "    </tr>\n",
       "    <tr>\n",
       "      <th>230401</th>\n",
       "      <td>MUFL</td>\n",
       "      <td>2016-07-01 00:15:00</td>\n",
       "      <td>-0.658068</td>\n",
       "    </tr>\n",
       "    <tr>\n",
       "      <th>288000</th>\n",
       "      <td>MULL</td>\n",
       "      <td>2016-07-01 00:00:00</td>\n",
       "      <td>-0.393536</td>\n",
       "    </tr>\n",
       "    <tr>\n",
       "      <th>288001</th>\n",
       "      <td>MULL</td>\n",
       "      <td>2016-07-01 00:15:00</td>\n",
       "      <td>-0.659338</td>\n",
       "    </tr>\n",
       "    <tr>\n",
       "      <th>345600</th>\n",
       "      <td>OT</td>\n",
       "      <td>2016-07-01 00:00:00</td>\n",
       "      <td>1.018032</td>\n",
       "    </tr>\n",
       "    <tr>\n",
       "      <th>345601</th>\n",
       "      <td>OT</td>\n",
       "      <td>2016-07-01 00:15:00</td>\n",
       "      <td>0.980124</td>\n",
       "    </tr>\n",
       "  </tbody>\n",
       "</table>\n",
       "</div>"
      ],
      "text/plain": [
       "       unique_id                  ds         y\n",
       "0           HUFL 2016-07-01 00:00:00 -0.041413\n",
       "1           HUFL 2016-07-01 00:15:00 -0.185467\n",
       "57600       HULL 2016-07-01 00:00:00  0.040104\n",
       "57601       HULL 2016-07-01 00:15:00 -0.214450\n",
       "115200      LUFL 2016-07-01 00:00:00  0.695804\n",
       "115201      LUFL 2016-07-01 00:15:00  0.434685\n",
       "172800      LULL 2016-07-01 00:00:00  0.434430\n",
       "172801      LULL 2016-07-01 00:15:00  0.428168\n",
       "230400      MUFL 2016-07-01 00:00:00 -0.599211\n",
       "230401      MUFL 2016-07-01 00:15:00 -0.658068\n",
       "288000      MULL 2016-07-01 00:00:00 -0.393536\n",
       "288001      MULL 2016-07-01 00:15:00 -0.659338\n",
       "345600        OT 2016-07-01 00:00:00  1.018032\n",
       "345601        OT 2016-07-01 00:15:00  0.980124"
      ]
     },
     "execution_count": 10,
     "metadata": {},
     "output_type": "execute_result"
    }
   ],
   "source": [
    "import pandas as pd\n",
    "from neuralforecast.core import NeuralForecast \n",
    "import numpy as np\n",
    "import pytorch_lightning as pl\n",
    "import matplotlib.pyplot as plt\n",
    "\n",
    "from neuralforecast.models import NBEATS\n",
    "from neuralforecast.losses.pytorch import MQLoss, DistributionLoss\n",
    "\n",
    "Y_df = pd.read_csv(\"raw_data/df_Ettm2.csv\")\n",
    "\n",
    "Y_df['ds'] = pd.to_datetime(Y_df['ds'])\n",
    "\n",
    "# For this excercise we are going to take 20% of the DataSet\n",
    "n_time = len(Y_df.ds.unique())\n",
    "val_size = int(.2 * n_time)\n",
    "test_size = int(.2 * n_time)\n",
    "\n",
    "Y_df.groupby('unique_id').head(2)"
   ]
  },
  {
   "cell_type": "code",
   "execution_count": 11,
   "id": "b8776b17-e45a-45f3-a52f-9031bf14036e",
   "metadata": {},
   "outputs": [
    {
     "name": "stderr",
     "output_type": "stream",
     "text": [
      "Seed set to 1\n",
      "2023-11-02 02:40:11.197799: I tensorflow/core/util/port.cc:111] oneDNN custom operations are on. You may see slightly different numerical results due to floating-point round-off errors from different computation orders. To turn them off, set the environment variable `TF_ENABLE_ONEDNN_OPTS=0`.\n",
      "2023-11-02 02:40:11.199229: I tensorflow/tsl/cuda/cudart_stub.cc:28] Could not find cuda drivers on your machine, GPU will not be used.\n",
      "2023-11-02 02:40:11.217067: E tensorflow/compiler/xla/stream_executor/cuda/cuda_dnn.cc:9342] Unable to register cuDNN factory: Attempting to register factory for plugin cuDNN when one has already been registered\n",
      "2023-11-02 02:40:11.217086: E tensorflow/compiler/xla/stream_executor/cuda/cuda_fft.cc:609] Unable to register cuFFT factory: Attempting to register factory for plugin cuFFT when one has already been registered\n",
      "2023-11-02 02:40:11.217100: E tensorflow/compiler/xla/stream_executor/cuda/cuda_blas.cc:1518] Unable to register cuBLAS factory: Attempting to register factory for plugin cuBLAS when one has already been registered\n",
      "2023-11-02 02:40:11.221761: I tensorflow/core/platform/cpu_feature_guard.cc:182] This TensorFlow binary is optimized to use available CPU instructions in performance-critical operations.\n",
      "To enable the following instructions: AVX2 AVX_VNNI FMA, in other operations, rebuild TensorFlow with the appropriate compiler flags.\n",
      "2023-11-02 02:40:11.779149: W tensorflow/compiler/tf2tensorrt/utils/py_utils.cc:38] TF-TRT Warning: Could not find TensorRT\n"
     ]
    },
    {
     "data": {
      "application/vnd.jupyter.widget-view+json": {
       "model_id": "",
       "version_major": 2,
       "version_minor": 0
      },
      "text/plain": [
       "Sanity Checking: |                                                                                | 0/? [00:00…"
      ]
     },
     "metadata": {},
     "output_type": "display_data"
    },
    {
     "data": {
      "application/vnd.jupyter.widget-view+json": {
       "model_id": "763685452aff4433ae2d3c0a85b576c0",
       "version_major": 2,
       "version_minor": 0
      },
      "text/plain": [
       "Training: |                                                                                       | 0/? [00:00…"
      ]
     },
     "metadata": {},
     "output_type": "display_data"
    },
    {
     "data": {
      "application/vnd.jupyter.widget-view+json": {
       "model_id": "",
       "version_major": 2,
       "version_minor": 0
      },
      "text/plain": [
       "Validation: |                                                                                     | 0/? [00:00…"
      ]
     },
     "metadata": {},
     "output_type": "display_data"
    },
    {
     "data": {
      "application/vnd.jupyter.widget-view+json": {
       "model_id": "f402ba9b7d604515bca45989b6817fbd",
       "version_major": 2,
       "version_minor": 0
      },
      "text/plain": [
       "Predicting: |                                                                                     | 0/? [00:00…"
      ]
     },
     "metadata": {},
     "output_type": "display_data"
    }
   ],
   "source": [
    "horizon = 96\n",
    "\n",
    "model = NBEATS(h=horizon, input_size=5*horizon,\n",
    "               stack_types = ['identity', 'trend', 'seasonality'],\n",
    "               batch_size = 7,\n",
    "               windows_batch_size = 256,\n",
    "               max_steps = 100,\n",
    "              val_check_steps=10)\n",
    "\n",
    "\n",
    "nf = NeuralForecast(\n",
    "    models=[model],\n",
    "    freq='15min')\n",
    "\n",
    "Y_hat_df = nf.cross_validation(df=Y_df, val_size=val_size,\n",
    "                               test_size=test_size, n_windows=None)"
   ]
  },
  {
   "cell_type": "code",
   "execution_count": 12,
   "id": "8a1b4e1a-9d01-4e4c-b1ab-e9b969778aba",
   "metadata": {},
   "outputs": [
    {
     "name": "stdout",
     "output_type": "stream",
     "text": [
      "MAE:  0.26536146140480926\n",
      "MSE:  0.1812076133858475\n"
     ]
    }
   ],
   "source": [
    "from neuralforecast.losses.numpy import mae, mse\n",
    "\n",
    "print('MAE: ', mae(Y_hat_df['y'], Y_hat_df['NBEATS']))\n",
    "print('MSE: ', mse(Y_hat_df['y'], Y_hat_df['NBEATS']))"
   ]
  },
  {
   "cell_type": "code",
   "execution_count": 29,
   "id": "2943411f-fb66-4b00-8e55-2d9328984d4c",
   "metadata": {},
   "outputs": [],
   "source": [
    "Y_hat_df.to_csv('results/Ettm2/NBEATS.csv')"
   ]
  },
  {
   "cell_type": "markdown",
   "id": "f1f05127-dde6-4dd2-8024-4f5308dfd7ad",
   "metadata": {},
   "source": [
    "### Weather"
   ]
  },
  {
   "cell_type": "code",
   "execution_count": 8,
   "id": "cf4847ca-3f83-4a4c-96cb-151d133054fa",
   "metadata": {
    "scrolled": true
   },
   "outputs": [
    {
     "data": {
      "text/html": [
       "<div>\n",
       "<style scoped>\n",
       "    .dataframe tbody tr th:only-of-type {\n",
       "        vertical-align: middle;\n",
       "    }\n",
       "\n",
       "    .dataframe tbody tr th {\n",
       "        vertical-align: top;\n",
       "    }\n",
       "\n",
       "    .dataframe thead th {\n",
       "        text-align: right;\n",
       "    }\n",
       "</style>\n",
       "<table border=\"1\" class=\"dataframe\">\n",
       "  <thead>\n",
       "    <tr style=\"text-align: right;\">\n",
       "      <th></th>\n",
       "      <th>unique_id</th>\n",
       "      <th>ds</th>\n",
       "      <th>y</th>\n",
       "    </tr>\n",
       "  </thead>\n",
       "  <tbody>\n",
       "    <tr>\n",
       "      <th>0</th>\n",
       "      <td>H2OC (mmol/mol)</td>\n",
       "      <td>2020-01-01 00:10:00</td>\n",
       "      <td>-0.999107</td>\n",
       "    </tr>\n",
       "    <tr>\n",
       "      <th>1</th>\n",
       "      <td>H2OC (mmol/mol)</td>\n",
       "      <td>2020-01-01 00:20:00</td>\n",
       "      <td>-1.008072</td>\n",
       "    </tr>\n",
       "    <tr>\n",
       "      <th>52695</th>\n",
       "      <td>OT</td>\n",
       "      <td>2020-01-01 00:10:00</td>\n",
       "      <td>0.044395</td>\n",
       "    </tr>\n",
       "    <tr>\n",
       "      <th>52696</th>\n",
       "      <td>OT</td>\n",
       "      <td>2020-01-01 00:20:00</td>\n",
       "      <td>0.044134</td>\n",
       "    </tr>\n",
       "    <tr>\n",
       "      <th>105390</th>\n",
       "      <td>PAR (�mol/m�/s)</td>\n",
       "      <td>2020-01-01 00:10:00</td>\n",
       "      <td>-0.679493</td>\n",
       "    </tr>\n",
       "    <tr>\n",
       "      <th>105391</th>\n",
       "      <td>PAR (�mol/m�/s)</td>\n",
       "      <td>2020-01-01 00:20:00</td>\n",
       "      <td>-0.679493</td>\n",
       "    </tr>\n",
       "    <tr>\n",
       "      <th>158085</th>\n",
       "      <td>SWDR (W/m�)</td>\n",
       "      <td>2020-01-01 00:10:00</td>\n",
       "      <td>-0.672767</td>\n",
       "    </tr>\n",
       "    <tr>\n",
       "      <th>158086</th>\n",
       "      <td>SWDR (W/m�)</td>\n",
       "      <td>2020-01-01 00:20:00</td>\n",
       "      <td>-0.672767</td>\n",
       "    </tr>\n",
       "    <tr>\n",
       "      <th>210780</th>\n",
       "      <td>T (degC)</td>\n",
       "      <td>2020-01-01 00:10:00</td>\n",
       "      <td>-1.459980</td>\n",
       "    </tr>\n",
       "    <tr>\n",
       "      <th>210781</th>\n",
       "      <td>T (degC)</td>\n",
       "      <td>2020-01-01 00:20:00</td>\n",
       "      <td>-1.454798</td>\n",
       "    </tr>\n",
       "    <tr>\n",
       "      <th>263475</th>\n",
       "      <td>Tdew (degC)</td>\n",
       "      <td>2020-01-01 00:10:00</td>\n",
       "      <td>-1.052596</td>\n",
       "    </tr>\n",
       "    <tr>\n",
       "      <th>263476</th>\n",
       "      <td>Tdew (degC)</td>\n",
       "      <td>2020-01-01 00:20:00</td>\n",
       "      <td>-1.069612</td>\n",
       "    </tr>\n",
       "    <tr>\n",
       "      <th>316170</th>\n",
       "      <td>Tlog (degC)</td>\n",
       "      <td>2020-01-01 00:10:00</td>\n",
       "      <td>-1.424132</td>\n",
       "    </tr>\n",
       "    <tr>\n",
       "      <th>316171</th>\n",
       "      <td>Tlog (degC)</td>\n",
       "      <td>2020-01-01 00:20:00</td>\n",
       "      <td>-1.416612</td>\n",
       "    </tr>\n",
       "    <tr>\n",
       "      <th>368865</th>\n",
       "      <td>Tpot (K)</td>\n",
       "      <td>2020-01-01 00:10:00</td>\n",
       "      <td>-1.607935</td>\n",
       "    </tr>\n",
       "    <tr>\n",
       "      <th>368866</th>\n",
       "      <td>Tpot (K)</td>\n",
       "      <td>2020-01-01 00:20:00</td>\n",
       "      <td>-1.602882</td>\n",
       "    </tr>\n",
       "    <tr>\n",
       "      <th>421560</th>\n",
       "      <td>VPact (mbar)</td>\n",
       "      <td>2020-01-01 00:10:00</td>\n",
       "      <td>-0.979132</td>\n",
       "    </tr>\n",
       "    <tr>\n",
       "      <th>421561</th>\n",
       "      <td>VPact (mbar)</td>\n",
       "      <td>2020-01-01 00:20:00</td>\n",
       "      <td>-0.990506</td>\n",
       "    </tr>\n",
       "    <tr>\n",
       "      <th>474255</th>\n",
       "      <td>VPdef (mbar)</td>\n",
       "      <td>2020-01-01 00:10:00</td>\n",
       "      <td>-0.838497</td>\n",
       "    </tr>\n",
       "    <tr>\n",
       "      <th>474256</th>\n",
       "      <td>VPdef (mbar)</td>\n",
       "      <td>2020-01-01 00:20:00</td>\n",
       "      <td>-0.828332</td>\n",
       "    </tr>\n",
       "    <tr>\n",
       "      <th>526950</th>\n",
       "      <td>VPmax (mbar)</td>\n",
       "      <td>2020-01-01 00:10:00</td>\n",
       "      <td>-1.141181</td>\n",
       "    </tr>\n",
       "    <tr>\n",
       "      <th>526951</th>\n",
       "      <td>VPmax (mbar)</td>\n",
       "      <td>2020-01-01 00:20:00</td>\n",
       "      <td>-1.138714</td>\n",
       "    </tr>\n",
       "    <tr>\n",
       "      <th>579645</th>\n",
       "      <td>max. PAR (�mol/m�/s)</td>\n",
       "      <td>2020-01-01 00:10:00</td>\n",
       "      <td>-0.588296</td>\n",
       "    </tr>\n",
       "    <tr>\n",
       "      <th>579646</th>\n",
       "      <td>max. PAR (�mol/m�/s)</td>\n",
       "      <td>2020-01-01 00:20:00</td>\n",
       "      <td>-0.588296</td>\n",
       "    </tr>\n",
       "    <tr>\n",
       "      <th>632340</th>\n",
       "      <td>max. wv (m/s)</td>\n",
       "      <td>2020-01-01 00:10:00</td>\n",
       "      <td>-0.832381</td>\n",
       "    </tr>\n",
       "    <tr>\n",
       "      <th>632341</th>\n",
       "      <td>max. wv (m/s)</td>\n",
       "      <td>2020-01-01 00:20:00</td>\n",
       "      <td>-1.125140</td>\n",
       "    </tr>\n",
       "    <tr>\n",
       "      <th>685035</th>\n",
       "      <td>p (mbar)</td>\n",
       "      <td>2020-01-01 00:10:00</td>\n",
       "      <td>2.114257</td>\n",
       "    </tr>\n",
       "    <tr>\n",
       "      <th>685036</th>\n",
       "      <td>p (mbar)</td>\n",
       "      <td>2020-01-01 00:20:00</td>\n",
       "      <td>2.099194</td>\n",
       "    </tr>\n",
       "    <tr>\n",
       "      <th>737730</th>\n",
       "      <td>rain (mm)</td>\n",
       "      <td>2020-01-01 00:10:00</td>\n",
       "      <td>-0.093506</td>\n",
       "    </tr>\n",
       "    <tr>\n",
       "      <th>737731</th>\n",
       "      <td>rain (mm)</td>\n",
       "      <td>2020-01-01 00:20:00</td>\n",
       "      <td>-0.093506</td>\n",
       "    </tr>\n",
       "    <tr>\n",
       "      <th>790425</th>\n",
       "      <td>raining (s)</td>\n",
       "      <td>2020-01-01 00:10:00</td>\n",
       "      <td>-0.221050</td>\n",
       "    </tr>\n",
       "    <tr>\n",
       "      <th>790426</th>\n",
       "      <td>raining (s)</td>\n",
       "      <td>2020-01-01 00:20:00</td>\n",
       "      <td>-0.221050</td>\n",
       "    </tr>\n",
       "    <tr>\n",
       "      <th>843120</th>\n",
       "      <td>rh (%)</td>\n",
       "      <td>2020-01-01 00:10:00</td>\n",
       "      <td>0.990128</td>\n",
       "    </tr>\n",
       "    <tr>\n",
       "      <th>843121</th>\n",
       "      <td>rh (%)</td>\n",
       "      <td>2020-01-01 00:20:00</td>\n",
       "      <td>0.942141</td>\n",
       "    </tr>\n",
       "    <tr>\n",
       "      <th>895815</th>\n",
       "      <td>rho (g/m**3)</td>\n",
       "      <td>2020-01-01 00:10:00</td>\n",
       "      <td>1.940406</td>\n",
       "    </tr>\n",
       "    <tr>\n",
       "      <th>895816</th>\n",
       "      <td>rho (g/m**3)</td>\n",
       "      <td>2020-01-01 00:20:00</td>\n",
       "      <td>1.932788</td>\n",
       "    </tr>\n",
       "    <tr>\n",
       "      <th>948510</th>\n",
       "      <td>sh (g/kg)</td>\n",
       "      <td>2020-01-01 00:10:00</td>\n",
       "      <td>-0.998513</td>\n",
       "    </tr>\n",
       "    <tr>\n",
       "      <th>948511</th>\n",
       "      <td>sh (g/kg)</td>\n",
       "      <td>2020-01-01 00:20:00</td>\n",
       "      <td>-1.009228</td>\n",
       "    </tr>\n",
       "    <tr>\n",
       "      <th>1001205</th>\n",
       "      <td>wd (deg)</td>\n",
       "      <td>2020-01-01 00:10:00</td>\n",
       "      <td>0.555571</td>\n",
       "    </tr>\n",
       "    <tr>\n",
       "      <th>1001206</th>\n",
       "      <td>wd (deg)</td>\n",
       "      <td>2020-01-01 00:20:00</td>\n",
       "      <td>0.354339</td>\n",
       "    </tr>\n",
       "    <tr>\n",
       "      <th>1053900</th>\n",
       "      <td>wv (m/s)</td>\n",
       "      <td>2020-01-01 00:10:00</td>\n",
       "      <td>-0.017801</td>\n",
       "    </tr>\n",
       "    <tr>\n",
       "      <th>1053901</th>\n",
       "      <td>wv (m/s)</td>\n",
       "      <td>2020-01-01 00:20:00</td>\n",
       "      <td>-0.029125</td>\n",
       "    </tr>\n",
       "  </tbody>\n",
       "</table>\n",
       "</div>"
      ],
      "text/plain": [
       "                    unique_id                  ds         y\n",
       "0             H2OC (mmol/mol) 2020-01-01 00:10:00 -0.999107\n",
       "1             H2OC (mmol/mol) 2020-01-01 00:20:00 -1.008072\n",
       "52695                      OT 2020-01-01 00:10:00  0.044395\n",
       "52696                      OT 2020-01-01 00:20:00  0.044134\n",
       "105390        PAR (�mol/m�/s) 2020-01-01 00:10:00 -0.679493\n",
       "105391        PAR (�mol/m�/s) 2020-01-01 00:20:00 -0.679493\n",
       "158085            SWDR (W/m�) 2020-01-01 00:10:00 -0.672767\n",
       "158086            SWDR (W/m�) 2020-01-01 00:20:00 -0.672767\n",
       "210780               T (degC) 2020-01-01 00:10:00 -1.459980\n",
       "210781               T (degC) 2020-01-01 00:20:00 -1.454798\n",
       "263475            Tdew (degC) 2020-01-01 00:10:00 -1.052596\n",
       "263476            Tdew (degC) 2020-01-01 00:20:00 -1.069612\n",
       "316170            Tlog (degC) 2020-01-01 00:10:00 -1.424132\n",
       "316171            Tlog (degC) 2020-01-01 00:20:00 -1.416612\n",
       "368865               Tpot (K) 2020-01-01 00:10:00 -1.607935\n",
       "368866               Tpot (K) 2020-01-01 00:20:00 -1.602882\n",
       "421560           VPact (mbar) 2020-01-01 00:10:00 -0.979132\n",
       "421561           VPact (mbar) 2020-01-01 00:20:00 -0.990506\n",
       "474255           VPdef (mbar) 2020-01-01 00:10:00 -0.838497\n",
       "474256           VPdef (mbar) 2020-01-01 00:20:00 -0.828332\n",
       "526950           VPmax (mbar) 2020-01-01 00:10:00 -1.141181\n",
       "526951           VPmax (mbar) 2020-01-01 00:20:00 -1.138714\n",
       "579645   max. PAR (�mol/m�/s) 2020-01-01 00:10:00 -0.588296\n",
       "579646   max. PAR (�mol/m�/s) 2020-01-01 00:20:00 -0.588296\n",
       "632340          max. wv (m/s) 2020-01-01 00:10:00 -0.832381\n",
       "632341          max. wv (m/s) 2020-01-01 00:20:00 -1.125140\n",
       "685035               p (mbar) 2020-01-01 00:10:00  2.114257\n",
       "685036               p (mbar) 2020-01-01 00:20:00  2.099194\n",
       "737730              rain (mm) 2020-01-01 00:10:00 -0.093506\n",
       "737731              rain (mm) 2020-01-01 00:20:00 -0.093506\n",
       "790425            raining (s) 2020-01-01 00:10:00 -0.221050\n",
       "790426            raining (s) 2020-01-01 00:20:00 -0.221050\n",
       "843120                 rh (%) 2020-01-01 00:10:00  0.990128\n",
       "843121                 rh (%) 2020-01-01 00:20:00  0.942141\n",
       "895815           rho (g/m**3) 2020-01-01 00:10:00  1.940406\n",
       "895816           rho (g/m**3) 2020-01-01 00:20:00  1.932788\n",
       "948510              sh (g/kg) 2020-01-01 00:10:00 -0.998513\n",
       "948511              sh (g/kg) 2020-01-01 00:20:00 -1.009228\n",
       "1001205              wd (deg) 2020-01-01 00:10:00  0.555571\n",
       "1001206              wd (deg) 2020-01-01 00:20:00  0.354339\n",
       "1053900              wv (m/s) 2020-01-01 00:10:00 -0.017801\n",
       "1053901              wv (m/s) 2020-01-01 00:20:00 -0.029125"
      ]
     },
     "execution_count": 8,
     "metadata": {},
     "output_type": "execute_result"
    }
   ],
   "source": [
    "import pandas as pd\n",
    "from neuralforecast.core import NeuralForecast \n",
    "import numpy as np\n",
    "import pytorch_lightning as pl\n",
    "import matplotlib.pyplot as plt\n",
    "\n",
    "from neuralforecast.models import NBEATS\n",
    "from neuralforecast.losses.pytorch import MQLoss, DistributionLoss\n",
    "\n",
    "Y_df = pd.read_csv(\"raw_data/df_Weather.csv\")\n",
    "\n",
    "Y_df['ds'] = pd.to_datetime(Y_df['ds'])\n",
    "\n",
    "# For this excercise we are going to take 20% of the DataSet\n",
    "n_time = len(Y_df.ds.unique())\n",
    "val_size = int(.1 * n_time)\n",
    "test_size = int(.2 * n_time)\n",
    "\n",
    "Y_df.groupby('unique_id').head(2)"
   ]
  },
  {
   "cell_type": "code",
   "execution_count": 9,
   "id": "ba55caa6-ec16-4a92-b61e-ea8d712ed6fc",
   "metadata": {},
   "outputs": [
    {
     "name": "stderr",
     "output_type": "stream",
     "text": [
      "Seed set to 1\n",
      "2023-11-02 18:41:08.083774: I tensorflow/core/util/port.cc:111] oneDNN custom operations are on. You may see slightly different numerical results due to floating-point round-off errors from different computation orders. To turn them off, set the environment variable `TF_ENABLE_ONEDNN_OPTS=0`.\n",
      "2023-11-02 18:41:08.119009: I tensorflow/tsl/cuda/cudart_stub.cc:28] Could not find cuda drivers on your machine, GPU will not be used.\n",
      "2023-11-02 18:41:08.287268: E tensorflow/compiler/xla/stream_executor/cuda/cuda_dnn.cc:9342] Unable to register cuDNN factory: Attempting to register factory for plugin cuDNN when one has already been registered\n",
      "2023-11-02 18:41:08.287296: E tensorflow/compiler/xla/stream_executor/cuda/cuda_fft.cc:609] Unable to register cuFFT factory: Attempting to register factory for plugin cuFFT when one has already been registered\n",
      "2023-11-02 18:41:08.288277: E tensorflow/compiler/xla/stream_executor/cuda/cuda_blas.cc:1518] Unable to register cuBLAS factory: Attempting to register factory for plugin cuBLAS when one has already been registered\n",
      "2023-11-02 18:41:08.364838: I tensorflow/core/platform/cpu_feature_guard.cc:182] This TensorFlow binary is optimized to use available CPU instructions in performance-critical operations.\n",
      "To enable the following instructions: AVX2 AVX_VNNI FMA, in other operations, rebuild TensorFlow with the appropriate compiler flags.\n",
      "2023-11-02 18:41:09.325051: W tensorflow/compiler/tf2tensorrt/utils/py_utils.cc:38] TF-TRT Warning: Could not find TensorRT\n"
     ]
    },
    {
     "data": {
      "application/vnd.jupyter.widget-view+json": {
       "model_id": "",
       "version_major": 2,
       "version_minor": 0
      },
      "text/plain": [
       "Sanity Checking: |                                                                                | 0/? [00:00…"
      ]
     },
     "metadata": {},
     "output_type": "display_data"
    },
    {
     "data": {
      "application/vnd.jupyter.widget-view+json": {
       "model_id": "948498aa76c64330b5bd6eff4a7db2d4",
       "version_major": 2,
       "version_minor": 0
      },
      "text/plain": [
       "Training: |                                                                                       | 0/? [00:00…"
      ]
     },
     "metadata": {},
     "output_type": "display_data"
    },
    {
     "data": {
      "application/vnd.jupyter.widget-view+json": {
       "model_id": "",
       "version_major": 2,
       "version_minor": 0
      },
      "text/plain": [
       "Validation: |                                                                                     | 0/? [00:00…"
      ]
     },
     "metadata": {},
     "output_type": "display_data"
    },
    {
     "data": {
      "application/vnd.jupyter.widget-view+json": {
       "model_id": "",
       "version_major": 2,
       "version_minor": 0
      },
      "text/plain": [
       "Validation: |                                                                                     | 0/? [00:00…"
      ]
     },
     "metadata": {},
     "output_type": "display_data"
    },
    {
     "data": {
      "application/vnd.jupyter.widget-view+json": {
       "model_id": "",
       "version_major": 2,
       "version_minor": 0
      },
      "text/plain": [
       "Validation: |                                                                                     | 0/? [00:00…"
      ]
     },
     "metadata": {},
     "output_type": "display_data"
    },
    {
     "data": {
      "application/vnd.jupyter.widget-view+json": {
       "model_id": "",
       "version_major": 2,
       "version_minor": 0
      },
      "text/plain": [
       "Validation: |                                                                                     | 0/? [00:00…"
      ]
     },
     "metadata": {},
     "output_type": "display_data"
    },
    {
     "data": {
      "application/vnd.jupyter.widget-view+json": {
       "model_id": "",
       "version_major": 2,
       "version_minor": 0
      },
      "text/plain": [
       "Validation: |                                                                                     | 0/? [00:00…"
      ]
     },
     "metadata": {},
     "output_type": "display_data"
    },
    {
     "data": {
      "application/vnd.jupyter.widget-view+json": {
       "model_id": "",
       "version_major": 2,
       "version_minor": 0
      },
      "text/plain": [
       "Validation: |                                                                                     | 0/? [00:00…"
      ]
     },
     "metadata": {},
     "output_type": "display_data"
    },
    {
     "data": {
      "application/vnd.jupyter.widget-view+json": {
       "model_id": "",
       "version_major": 2,
       "version_minor": 0
      },
      "text/plain": [
       "Validation: |                                                                                     | 0/? [00:00…"
      ]
     },
     "metadata": {},
     "output_type": "display_data"
    },
    {
     "data": {
      "application/vnd.jupyter.widget-view+json": {
       "model_id": "",
       "version_major": 2,
       "version_minor": 0
      },
      "text/plain": [
       "Validation: |                                                                                     | 0/? [00:00…"
      ]
     },
     "metadata": {},
     "output_type": "display_data"
    },
    {
     "data": {
      "application/vnd.jupyter.widget-view+json": {
       "model_id": "",
       "version_major": 2,
       "version_minor": 0
      },
      "text/plain": [
       "Validation: |                                                                                     | 0/? [00:00…"
      ]
     },
     "metadata": {},
     "output_type": "display_data"
    },
    {
     "data": {
      "application/vnd.jupyter.widget-view+json": {
       "model_id": "",
       "version_major": 2,
       "version_minor": 0
      },
      "text/plain": [
       "Validation: |                                                                                     | 0/? [00:00…"
      ]
     },
     "metadata": {},
     "output_type": "display_data"
    },
    {
     "data": {
      "application/vnd.jupyter.widget-view+json": {
       "model_id": "4b447560c65748f5a469f6bc310f001a",
       "version_major": 2,
       "version_minor": 0
      },
      "text/plain": [
       "Predicting: |                                                                                     | 0/? [00:00…"
      ]
     },
     "metadata": {},
     "output_type": "display_data"
    }
   ],
   "source": [
    "horizon = 96\n",
    "\n",
    "model = NBEATS(h=horizon, input_size=5*horizon,\n",
    "               stack_types = ['identity', 'trend', 'seasonality'],\n",
    "               batch_size = 21,\n",
    "               windows_batch_size = 256,\n",
    "               max_steps = 100,\n",
    "              val_check_steps=10)\n",
    "\n",
    "\n",
    "nf = NeuralForecast(\n",
    "    models=[model],\n",
    "    freq='10min')\n",
    "\n",
    "Y_hat_df = nf.cross_validation(df=Y_df, val_size=val_size,\n",
    "                               test_size=test_size, n_windows=None)"
   ]
  },
  {
   "cell_type": "code",
   "execution_count": 10,
   "id": "d844df42-18cd-40a7-8075-76ed13031478",
   "metadata": {},
   "outputs": [
    {
     "name": "stdout",
     "output_type": "stream",
     "text": [
      "MAE:  0.20784774329722125\n",
      "MSE:  0.1783033362809145\n"
     ]
    }
   ],
   "source": [
    "from neuralforecast.losses.numpy import mae, mse\n",
    "\n",
    "print('MAE: ', mae(Y_hat_df['y'], Y_hat_df['NBEATS']))\n",
    "print('MSE: ', mse(Y_hat_df['y'], Y_hat_df['NBEATS']))"
   ]
  },
  {
   "cell_type": "code",
   "execution_count": 11,
   "id": "08bed3d9-3aba-4a22-9a32-ed3b8565f12a",
   "metadata": {},
   "outputs": [
    {
     "name": "stdout",
     "output_type": "stream",
     "text": [
      "MAE:  0.2148191584760335\n",
      "MSE:  0.18219068222659401\n"
     ]
    }
   ],
   "source": [
    "from neuralforecast.losses.numpy import mae, mse\n",
    "\n",
    "print('MAE: ', mae(Y_hat_df['y'], Y_hat_df['NBEATS']))\n",
    "print('MSE: ', mse(Y_hat_df['y'], Y_hat_df['NBEATS']))"
   ]
  },
  {
   "cell_type": "code",
   "execution_count": 12,
   "id": "e86d4705-9ae0-44a8-bcfd-c2905ce94562",
   "metadata": {},
   "outputs": [],
   "source": [
    "data = {'NBEATS_MSE': mse(Y_hat_df['y'], Y_hat_df['NBEATS']),\n",
    "        'NBEATS_MAE': mae(Y_hat_df['y'], Y_hat_df['NBEATS'])}\n",
    "\n",
    "df = pd.DataFrame(data, index=['Weather'])\n",
    "df.to_csv('results/Weather/df_NBEATS.csv')"
   ]
  },
  {
   "cell_type": "code",
   "execution_count": 12,
   "id": "6d4cc3b3-992a-4947-b58e-955f38956798",
   "metadata": {},
   "outputs": [],
   "source": [
    "#Y_hat_df.to_csv('results/Weather/NBEATS.csv')"
   ]
  }
 ],
 "metadata": {
  "kernelspec": {
   "display_name": "Python 3 (ipykernel)",
   "language": "python",
   "name": "python3"
  },
  "language_info": {
   "codemirror_mode": {
    "name": "ipython",
    "version": 3
   },
   "file_extension": ".py",
   "mimetype": "text/x-python",
   "name": "python",
   "nbconvert_exporter": "python",
   "pygments_lexer": "ipython3",
   "version": "3.10.12"
  }
 },
 "nbformat": 4,
 "nbformat_minor": 5
}
